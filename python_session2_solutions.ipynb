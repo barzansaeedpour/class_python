{
 "cells": [
  {
   "cell_type": "markdown",
   "id": "0bb9c3b4",
   "metadata": {},
   "source": [
    "\n",
    "<div dir=\"rtl\">\n",
    "\n",
    "## پاسخ تمرینات جلسه دوم (کار با رشته ها)\n",
    "\n",
    "1. یک رشته از کاربر بگیرید و:\n",
    "   - طول آن را چاپ کنید.\n",
    "   - آن را به حروف بزرگ و کوچک تبدیل کنید.\n",
    "2. یک رشته از کاربر بگیرید و تعداد کلمات داخل رشته را بشمارید\n",
    "3. از کاربر یک جمله بگیرید و تعداد یک کلمه خاص را در آن بشمارید.\n",
    "4. نام و نام خانوادگی کاربر را بگیرید و با قالب‌بندی (f-string) چاپ کنید.\n",
    "5. از کاربر یک رشته بگیرید و برعکس آن را چاپ کنید (با Slicing).\n",
    "6. دو رشته از کاربر بگیرید و آنها را با یک فاصله بینشان ترکیب کنید.\n",
    "7. رشته‌ای وارد کنید و خروجی رشته‌ای باشد که تمام فاصله‌های داخل آن حذف شده‌اند\n",
    "8. رشته‌ای از کلمات وارد کنید، سپس بزرگ‌ترین (بیشترین طول) و کوچک‌ترین (کمترین طول) کلمه را چاپ کنید\n",
    "9. رشته‌ای وارد کنید و تمام حروف بزرگ را کوچک و حروف کوچک را بزرگ کنید (swap case)\n",
    "\n",
    "</div>\n"
   ]
  },
  {
   "cell_type": "code",
   "execution_count": 3,
   "id": "97d0b7ac",
   "metadata": {},
   "outputs": [
    {
     "name": "stdout",
     "output_type": "stream",
     "text": [
      "طول رشته: 12\n",
      "حروف بزرگ: HELLO PYTHON\n",
      "حروف کوچک: hello python\n"
     ]
    }
   ],
   "source": [
    "# تمرین 1: کار با رشته - طول و تغییر به حروف بزرگ/کوچک\n",
    "s = input(\"یک رشته وارد کنید: \")\n",
    "print(\"طول رشته:\", len(s))\n",
    "print(\"حروف بزرگ:\", s.upper())\n",
    "print(\"حروف کوچک:\", s.lower())\n"
   ]
  },
  {
   "cell_type": "code",
   "execution_count": 4,
   "id": "cf4423f8",
   "metadata": {},
   "outputs": [
    {
     "name": "stdout",
     "output_type": "stream",
     "text": [
      "تعداد کلمات: 2\n"
     ]
    }
   ],
   "source": [
    "\n",
    "# تمرین 2: شمارش تعداد کلمات رشته\n",
    "s = input(\"یک رشته وارد کنید: \")\n",
    "print(\"تعداد کلمات:\", len(s.split()))\n"
   ]
  },
  {
   "cell_type": "code",
   "execution_count": 12,
   "id": "916838b3",
   "metadata": {},
   "outputs": [
    {
     "name": "stdout",
     "output_type": "stream",
     "text": [
      "تعداد تکرار کلمه: 2\n"
     ]
    }
   ],
   "source": [
    "\n",
    "# تمرین 3: شمارش تعداد یک کلمه خاص در جمله\n",
    "sentence = input(\"یک جمله وارد کنید: \")\n",
    "word = input(\"کلمه مورد نظر را وارد کنید: \")\n",
    "print(\"تعداد تکرار کلمه:\", sentence.split().count(word))\n"
   ]
  },
  {
   "cell_type": "code",
   "execution_count": 13,
   "id": "7778acd3",
   "metadata": {},
   "outputs": [
    {
     "name": "stdout",
     "output_type": "stream",
     "text": [
      "نام کامل شما: python programming\n"
     ]
    }
   ],
   "source": [
    "\n",
    "# تمرین 4: چاپ نام و نام خانوادگی با f-string\n",
    "first = input(\"نام خود را وارد کنید: \")\n",
    "last = input(\"نام خانوادگی خود را وارد کنید: \")\n",
    "print(f\"نام کامل شما: {first} {last}\")\n"
   ]
  },
  {
   "cell_type": "code",
   "execution_count": 14,
   "id": "2c72dae1",
   "metadata": {},
   "outputs": [
    {
     "name": "stdout",
     "output_type": "stream",
     "text": [
      "رشته برعکس: nohtyp\n"
     ]
    }
   ],
   "source": [
    "\n",
    "# تمرین 5: برعکس کردن رشته با Slicing\n",
    "s = input(\"یک رشته وارد کنید: \")\n",
    "print(\"رشته برعکس:\", s[::-1])\n"
   ]
  },
  {
   "cell_type": "code",
   "execution_count": 15,
   "id": "ddf04bce",
   "metadata": {},
   "outputs": [
    {
     "name": "stdout",
     "output_type": "stream",
     "text": [
      "python programming\n"
     ]
    }
   ],
   "source": [
    "\n",
    "# تمرین 6: ترکیب دو رشته با یک فاصله\n",
    "s1 = input(\"رشته اول را وارد کنید: \")\n",
    "s2 = input(\"رشته دوم را وارد کنید: \")\n",
    "print(s1 + \" \" + s2)\n"
   ]
  },
  {
   "cell_type": "code",
   "execution_count": 16,
   "id": "6d5c6b3a",
   "metadata": {},
   "outputs": [
    {
     "name": "stdout",
     "output_type": "stream",
     "text": [
      "بدون فاصله: pythonisthebest\n"
     ]
    }
   ],
   "source": [
    "\n",
    "# تمرین 7: حذف تمام فاصله‌های داخل رشته\n",
    "s = input(\"یک رشته وارد کنید: \")\n",
    "print(\"بدون فاصله:\", s.replace(\" \", \"\"))\n"
   ]
  },
  {
   "cell_type": "code",
   "execution_count": 17,
   "id": "51cbbb69",
   "metadata": {},
   "outputs": [
    {
     "name": "stdout",
     "output_type": "stream",
     "text": [
      "بزرگ‌ترین کلمه: programming\n",
      "کوچک‌ترین کلمه: is\n"
     ]
    }
   ],
   "source": [
    "\n",
    "# تمرین 8: پیدا کردن بزرگ‌ترین و کوچک‌ترین کلمه\n",
    "s = input(\"یک رشته از کلمات وارد کنید: \")\n",
    "words = s.split()\n",
    "print(\"بزرگ‌ترین کلمه:\", max(words, key=len))\n",
    "print(\"کوچک‌ترین کلمه:\", min(words, key=len))\n"
   ]
  },
  {
   "cell_type": "code",
   "execution_count": 18,
   "id": "d6a7f824",
   "metadata": {},
   "outputs": [
    {
     "name": "stdout",
     "output_type": "stream",
     "text": [
      "خروجی: pYTHON iS tHE bEST pROGRAMMING lANGUAGE \n"
     ]
    }
   ],
   "source": [
    "\n",
    "# تمرین 9: تغییر کوچکی و بزرگی حروف\n",
    "s = input(\"یک رشته وارد کنید: \")\n",
    "print(\"خروجی:\", s.swapcase())\n"
   ]
  },
  {
   "cell_type": "code",
   "execution_count": null,
   "id": "19adb321",
   "metadata": {},
   "outputs": [],
   "source": []
  }
 ],
 "metadata": {
  "kernelspec": {
   "display_name": "env",
   "language": "python",
   "name": "python3"
  },
  "language_info": {
   "codemirror_mode": {
    "name": "ipython",
    "version": 3
   },
   "file_extension": ".py",
   "mimetype": "text/x-python",
   "name": "python",
   "nbconvert_exporter": "python",
   "pygments_lexer": "ipython3",
   "version": "3.12.3"
  }
 },
 "nbformat": 4,
 "nbformat_minor": 5
}

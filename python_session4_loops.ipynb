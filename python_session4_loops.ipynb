{
 "cells": [
  {
   "cell_type": "markdown",
   "id": "dc63a34c",
   "metadata": {},
   "source": [
    "<div dir=\"rtl\">\n",
    "\n",
    "# جلسه چهارم: حلقه‌ها در پایتون\n",
    "\n",
    "در این جلسه با ساختارهای **حلقه‌ها** در پایتون آشنا می‌شویم.  \n",
    "حلقه‌ها زمانی استفاده می‌شوند که بخواهیم یک قطعه کد را چندین بار اجرا کنیم.\n",
    "\n",
    "</div>\n"
   ]
  },
  {
   "cell_type": "markdown",
   "id": "b716f2f1",
   "metadata": {},
   "source": [
    "<div dir=\"rtl\">\n",
    "\n",
    "## حلقه `for`\n",
    "\n",
    "حلقه `for` در پایتون برای پیمایش روی یک دنباله (مانند لیست، رشته یا محدوده اعداد) استفاده می‌شود.\n",
    "</div>\n"
   ]
  },
  {
   "cell_type": "code",
   "execution_count": null,
   "id": "5ace4bd3",
   "metadata": {},
   "outputs": [],
   "source": [
    "\n",
    "# مثال: چاپ اعداد 0 تا 4\n",
    "for i in range(5):\n",
    "    print(i)\n"
   ]
  },
  {
   "cell_type": "markdown",
   "id": "01bf9965",
   "metadata": {},
   "source": [
    "<div dir=\"rtl\">\n",
    "\n",
    "تابع `range` اعداد را تولید می‌کند:\n",
    "- `range(n)` → از 0 تا n-1  \n",
    "- `range(a, b)` → از a تا b-1  \n",
    "- `range(a, b, step)` → از a تا b-1 با گام step\n",
    "</div>\n"
   ]
  },
  {
   "cell_type": "code",
   "execution_count": null,
   "id": "34d1a3a9",
   "metadata": {},
   "outputs": [],
   "source": [
    "\n",
    "# مثال: استفاده از start و step\n",
    "for i in range(2, 10, 2):\n",
    "    print(i)\n"
   ]
  },
  {
   "cell_type": "markdown",
   "id": "28e64191",
   "metadata": {},
   "source": [
    "<div dir=\"rtl\">\n",
    "\n",
    "## حلقه `while`\n",
    "\n",
    "حلقه `while` تا زمانی که شرط برقرار باشد، اجرا می‌شود.\n",
    "</div>\n"
   ]
  },
  {
   "cell_type": "code",
   "execution_count": null,
   "id": "86d7957b",
   "metadata": {},
   "outputs": [],
   "source": [
    "\n",
    "# مثال: چاپ اعداد تا زمانی که کمتر از 5 باشند\n",
    "x = 0\n",
    "while x < 5:\n",
    "    print(x)\n",
    "    x += 1\n"
   ]
  },
  {
   "cell_type": "markdown",
   "id": "9ab4d823",
   "metadata": {},
   "source": [
    "<div dir=\"rtl\">\n",
    "\n",
    "## دستورات `break` و `continue`\n",
    "\n",
    "- `break`: خروج فوری از حلقه  \n",
    "- `continue`: پرش به تکرار بعدی حلقه\n",
    "</div>\n"
   ]
  },
  {
   "cell_type": "code",
   "execution_count": null,
   "id": "926c52ac",
   "metadata": {},
   "outputs": [],
   "source": [
    "\n",
    "# مثال break\n",
    "for i in range(10):\n",
    "    if i == 5:\n",
    "        break\n",
    "    print(i)\n"
   ]
  },
  {
   "cell_type": "code",
   "execution_count": null,
   "id": "1aa1b558",
   "metadata": {},
   "outputs": [],
   "source": [
    "\n",
    "# مثال continue\n",
    "for i in range(10):\n",
    "    if i % 2 == 0:\n",
    "        continue\n",
    "    print(i)\n"
   ]
  },
  {
   "cell_type": "markdown",
   "id": "454891e2",
   "metadata": {},
   "source": [
    "<div dir=\"rtl\">\n",
    "\n",
    "# تمرین‌ها\n",
    "\n",
    "۱. با استفاده از حلقه `for` اعداد ۱ تا ۲۰ را چاپ کنید.  \n",
    "۲. مجموع اعداد ۱ تا ۱۰۰ را با استفاده از حلقه `for` حساب کنید.  \n",
    "۳. برنامه‌ای بنویسید که از کاربر یک عدد بگیرد و جدول ضرب آن را چاپ کند.  \n",
    "۴. یک رشته بگیرید و تعداد حروف صدادار (a, e, i, o, u) آن را بشمارید.  \n",
    "\n",
    "</div>"
   ]
  },
  {
   "cell_type": "markdown",
   "id": "dc1b98d2",
   "metadata": {},
   "source": [
    "<div dir=\"rtl\">\n",
    "\n",
    "## تمرین‌های ترکیبی (حلقه + شرط)\n",
    "\n",
    "۱. تمام اعداد بین ۱ تا ۵۰ را چاپ کنید که بر ۳ بخش‌پذیر باشند.  \n",
    "۲. برنامه‌ای بنویسید که اعداد اول بین ۱ تا ۱۰۰ را چاپ کند.  \n",
    "۳. برنامه‌ای بنویسید که بزرگترین عدد وارد شده توسط کاربر (۱۰ عدد ورودی) را پیدا کند.  \n",
    "۴. برنامه‌ای بنویسید که مثلثی از ستاره‌ها با ارتفاع دلخواه کاربر چاپ کند.\n",
    "\n",
    "</div>"
   ]
  }
 ],
 "metadata": {
  "language_info": {
   "name": "python"
  }
 },
 "nbformat": 4,
 "nbformat_minor": 5
}

{
 "cells": [
  {
   "cell_type": "markdown",
   "id": "4ceb7887",
   "metadata": {},
   "source": [
    "<div dir=\"rtl\">\n",
    "\n",
    "# جلسه ۹ – کار با فایل‌ها در پایتون\n",
    "\n",
    "</div>"
   ]
  },
  {
   "cell_type": "markdown",
   "id": "e03b5417",
   "metadata": {},
   "source": [
    "\n",
    "<div dir=\"rtl\">\n",
    "\n",
    "مدیریت فایل‌ها یکی از بخش‌های مهم برنامه‌نویسی است. در پایتون می‌توانیم با فایل‌های متنی و باینری کار کنیم، داده ذخیره کنیم یا بخوانیم و پردازش کنیم.\n",
    "\n",
    "</div>\n"
   ]
  },
  {
   "cell_type": "markdown",
   "id": "b534502a",
   "metadata": {},
   "source": [
    "\n",
    "<div dir=\"rtl\">\n",
    "\n",
    "## ۱. باز کردن فایل با تابع `open`\n",
    "\n",
    "برای کار با فایل‌ها باید ابتدا آن‌ها را باز کنیم. دستور کلی:\n",
    "\n",
    "```python\n",
    "file = open(\"filename.txt\", mode, encoding=\"utf-8\")\n",
    "```\n",
    "\n",
    "### حالت‌های مختلف باز کردن فایل\n",
    "\n",
    "* `'r'` : فقط خواندن (اگر فایل وجود نداشته باشد خطا می‌دهد)  \n",
    "* `'w'` : فقط نوشتن (اگر فایل وجود داشته باشد محتوای آن پاک می‌شود)  \n",
    "* `'a'` : اضافه کردن در انتهای فایل (append)  \n",
    "* `'rb'`, `'wb'` : حالت‌های باینری برای فایل‌های غیرمتنی مثل تصویر و صوت  \n",
    "\n",
    "نکته مهم: همیشه پس از پایان کار با فایل، آن را ببندید.\n",
    "\n",
    "</div>\n"
   ]
  },
  {
   "cell_type": "code",
   "execution_count": null,
   "id": "14ade5c1",
   "metadata": {},
   "outputs": [],
   "source": [
    "\n",
    "# باز کردن فایل برای نوشتن\n",
    "file = open(\"example.txt\", \"w\", encoding=\"utf-8\")\n",
    "file.write(\"این یک متن تستی است.\")\n",
    "file.close()\n",
    "\n",
    "# باز کردن فایل برای خواندن\n",
    "file = open(\"example.txt\", \"r\", encoding=\"utf-8\")\n",
    "content = file.read()\n",
    "file.close()\n",
    "print(\"محتوای فایل:\", content)\n"
   ]
  },
  {
   "cell_type": "markdown",
   "id": "67f7d7a5",
   "metadata": {},
   "source": [
    "\n",
    "<div dir=\"rtl\">\n",
    "\n",
    "## ۲. استفاده از `with` برای مدیریت فایل‌ها\n",
    "\n",
    "برای اینکه مطمئن شویم فایل پس از پایان کار به درستی بسته می‌شود (حتی اگر خطا رخ دهد)، از دستور `with` استفاده می‌کنیم.\n",
    "\n",
    "</div>\n"
   ]
  },
  {
   "cell_type": "code",
   "execution_count": null,
   "id": "e13590c1",
   "metadata": {},
   "outputs": [],
   "source": [
    "\n",
    "# مثال استفاده از with برای نوشتن و خواندن\n",
    "with open(\"example.txt\", \"w\", encoding=\"utf-8\") as f:\n",
    "    f.write(\"سلام دنیا\")\n",
    "\n",
    "with open(\"example.txt\", \"r\", encoding=\"utf-8\") as f:\n",
    "    data = f.read()\n",
    "    print(data)\n"
   ]
  },
  {
   "cell_type": "markdown",
   "id": "73ab7d23",
   "metadata": {},
   "source": [
    "\n",
    "<div dir=\"rtl\">\n",
    "\n",
    "## ۳. خواندن از فایل\n",
    "\n",
    "روش‌های مختلف برای خواندن:\n",
    "\n",
    "* `read()` : کل محتوای فایل را به صورت رشته برمی‌گرداند.  \n",
    "* `readline()` : یک خط از فایل را می‌خواند.  \n",
    "* `readlines()` : همه خطوط را به صورت لیست بازمی‌گرداند.  \n",
    "\n",
    "</div>\n"
   ]
  },
  {
   "cell_type": "code",
   "execution_count": null,
   "id": "adc270e2",
   "metadata": {},
   "outputs": [],
   "source": [
    "\n",
    "# مثال خواندن با روش‌های مختلف\n",
    "with open(\"example.txt\", \"r\", encoding=\"utf-8\") as f:\n",
    "    print(\"خواندن کل فایل:\", f.read())\n",
    "\n",
    "with open(\"example.txt\", \"r\", encoding=\"utf-8\") as f:\n",
    "    print(\"خط اول:\", f.readline())\n",
    "\n",
    "with open(\"example.txt\", \"r\", encoding=\"utf-8\") as f:\n",
    "    print(\"لیست خطوط:\", f.readlines())\n"
   ]
  },
  {
   "cell_type": "markdown",
   "id": "37d9540e",
   "metadata": {},
   "source": [
    "\n",
    "<div dir=\"rtl\">\n",
    "\n",
    "## ۴. نوشتن در فایل\n",
    "\n",
    "روش‌های مختلف برای نوشتن:\n",
    "\n",
    "* `write(text)` : نوشتن یک رشته در فایل  \n",
    "* `writelines(list_of_strings)` : نوشتن چند رشته پشت سر هم در فایل  \n",
    "\n",
    "</div>\n"
   ]
  },
  {
   "cell_type": "code",
   "execution_count": null,
   "id": "0757de96",
   "metadata": {},
   "outputs": [],
   "source": [
    "\n",
    "# مثال نوشتن در فایل\n",
    "lines = [\"خط اول\\n\", \"خط دوم\\n\", \"خط سوم\\n\"]\n",
    "\n",
    "with open(\"write_test.txt\", \"w\", encoding=\"utf-8\") as f:\n",
    "    f.writelines(lines)\n",
    "\n",
    "with open(\"write_test.txt\", \"r\", encoding=\"utf-8\") as f:\n",
    "    print(\"محتوای فایل نوشته‌شده:\")\n",
    "    print(f.read())\n"
   ]
  },
  {
   "cell_type": "markdown",
   "id": "8f1dfb5d",
   "metadata": {},
   "source": [
    "\n",
    "<div dir=\"rtl\">\n",
    "\n",
    "## ۵. اضافه کردن متن به فایل (Append)\n",
    "\n",
    "اگر بخواهیم بدون پاک شدن محتوای قبلی، متن جدیدی به فایل اضافه کنیم، از حالت `'a'` استفاده می‌کنیم.\n",
    "\n",
    "</div>\n"
   ]
  },
  {
   "cell_type": "code",
   "execution_count": null,
   "id": "22918e2a",
   "metadata": {},
   "outputs": [],
   "source": [
    "\n",
    "# مثال اضافه کردن به فایل\n",
    "with open(\"write_test.txt\", \"a\", encoding=\"utf-8\") as f:\n",
    "    f.write(\"این یک خط اضافه است.\\n\")\n",
    "\n",
    "with open(\"write_test.txt\", \"r\", encoding=\"utf-8\") as f:\n",
    "    print(f.read())\n"
   ]
  },
  {
   "cell_type": "markdown",
   "id": "64179630",
   "metadata": {},
   "source": [
    "\n",
    "<div dir=\"rtl\">\n",
    "\n",
    "## ۶. تمرین: ذخیره و خواندن اطلاعات کاربران\n",
    "\n",
    "برنامه‌ای بنویسید که اطلاعات چند کاربر (نام، سن، ایمیل) را در فایل ذخیره کند و سپس دوباره آن را بخواند و نمایش دهد.\n",
    "\n",
    "</div>\n"
   ]
  },
  {
   "cell_type": "code",
   "execution_count": null,
   "id": "481acd86",
   "metadata": {},
   "outputs": [],
   "source": []
  },
  {
   "cell_type": "markdown",
   "id": "14c960ac",
   "metadata": {},
   "source": [
    "\n",
    "<div dir=\"rtl\">\n",
    "\n",
    "## ۷. تمرینات بیشتر\n",
    "\n",
    "۱. برنامه‌ای بنویسید که یک لیست از اعداد را در فایل ذخیره کرده و سپس آن‌ها را دوباره بخواند و میانگین را محاسبه کند.  \n",
    "۲. یک دفترچه یادداشت ساده بسازید که کاربر بتواند متن وارد کند و در فایل ذخیره شود. سپس کاربر بتواند تمام یادداشت‌های قبلی را مشاهده کند.  \n",
    "۳. برنامه‌ای بنویسید که تعداد خطوط، کلمات و کاراکترهای موجود در یک فایل متنی را شمارش کند.  \n",
    "۴. برنامه‌ای بنویسید که بتواند جستجوی یک کلمه را در یک فایل متنی انجام دهد و شماره خط‌های شامل آن کلمه را چاپ کند.  \n",
    "\n",
    "</div>\n"
   ]
  },
  {
   "cell_type": "code",
   "execution_count": null,
   "id": "3fc9525f",
   "metadata": {},
   "outputs": [],
   "source": []
  }
 ],
 "metadata": {
  "language_info": {
   "name": "python"
  }
 },
 "nbformat": 4,
 "nbformat_minor": 5
}

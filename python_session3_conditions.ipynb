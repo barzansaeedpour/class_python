{
 "cells": [
  {
   "cell_type": "markdown",
   "id": "677eeb3b",
   "metadata": {},
   "source": [
    "<div dir=\"rtl\">\n",
    "\n",
    "# جلسه ۳ – شرط‌ها و تصمیم‌گیری در پایتون\n",
    "\n",
    "در این جلسه با ساختارهای شرطی (`if`, `elif`, `else`) و عملگرهای منطقی (`and`, `or`, `not`) آشنا می‌شویم و یاد می‌گیریم چگونه برنامه‌ها را بر اساس شرایط مختلف هدایت کنیم.\n",
    "\n",
    "</div>"
   ]
  },
  {
   "cell_type": "markdown",
   "id": "5d20bb9e",
   "metadata": {},
   "source": [
    "<div dir=\"rtl\">\n",
    "\n",
    "## ساختار شرطی `if`, `elif`, `else`\n",
    "\n",
    "در پایتون برای تصمیم‌گیری از ساختار شرطی استفاده می‌کنیم. شکل کلی آن به صورت زیر است:\n",
    "\n",
    "</div>\n",
    "\n",
    "```\n",
    "if شرط_اول:\n",
    "    # دستوراتی که اگر شرط اول برقرار باشد اجرا می‌شوند\n",
    "elif شرط_دیگر:\n",
    "    # دستوراتی که اگر شرط دوم برقرار باشد اجرا می‌شوند\n",
    "else:\n",
    "    # دستوراتی که اگر هیچ کدام از شرایط برقرار نباشد اجرا می‌شوند\n",
    "```\n"
   ]
  },
  {
   "cell_type": "code",
   "execution_count": null,
   "id": "b10ba2a3",
   "metadata": {},
   "outputs": [],
   "source": [
    "\n",
    "# مثال ساده: بررسی نمره دانش‌آموز\n",
    "score = 85\n",
    "\n",
    "if score >= 90:\n",
    "    print(\"عالی\")\n",
    "elif score >= 70:\n",
    "    print(\"خوب\")\n",
    "else:\n",
    "    print(\"نیاز به تلاش بیشتر\")\n"
   ]
  },
  {
   "cell_type": "markdown",
   "id": "2125eb50",
   "metadata": {},
   "source": [
    "\n",
    "## عملگرهای منطقی (`and`, `or`, `not`)\n",
    "\n",
    "با استفاده از این عملگرها می‌توان چند شرط را ترکیب کرد:\n",
    "\n",
    "- `and` : هر دو شرط باید برقرار باشند.\n",
    "- `or` : کافی است یکی از شرط‌ها برقرار باشد.\n",
    "- `not` : شرط را معکوس می‌کند.\n"
   ]
  },
  {
   "cell_type": "code",
   "execution_count": null,
   "id": "9f6857c2",
   "metadata": {},
   "outputs": [],
   "source": [
    "\n",
    "age = 20\n",
    "has_id = True\n",
    "\n",
    "if age >= 18 and has_id:\n",
    "    print(\"اجازه ورود دارید\")\n",
    "else:\n",
    "    print(\"ورود ممنوع\")\n"
   ]
  },
  {
   "cell_type": "code",
   "execution_count": null,
   "id": "00974cea",
   "metadata": {},
   "outputs": [],
   "source": [
    "\n",
    "temperature = 30\n",
    "is_raining = False\n",
    "\n",
    "if temperature > 25 or is_raining:\n",
    "    print(\"نیازی به بردن کت نیست\")\n",
    "else:\n",
    "    print(\"کت یادت نره\")\n"
   ]
  },
  {
   "cell_type": "code",
   "execution_count": null,
   "id": "73ea4834",
   "metadata": {},
   "outputs": [],
   "source": [
    "\n",
    "is_logged_in = False\n",
    "\n",
    "if not is_logged_in:\n",
    "    print(\"لطفا وارد شوید\")\n"
   ]
  },
  {
   "cell_type": "markdown",
   "id": "e159c11a",
   "metadata": {},
   "source": [
    "\n",
    "## شرط‌های تو در تو\n",
    "\n",
    "گاهی لازم است درون یک شرط، شرط دیگری بررسی شود.\n",
    "\n",
    "```python\n",
    "if شرط_اول:\n",
    "    if شرط_دوم:\n",
    "        # ...\n",
    "```\n"
   ]
  },
  {
   "cell_type": "code",
   "execution_count": null,
   "id": "970cddde",
   "metadata": {},
   "outputs": [],
   "source": [
    "\n",
    "# مثال: بررسی دسترسی کاربر\n",
    "username = \"admin\"\n",
    "password = \"1234\"\n",
    "\n",
    "if username == \"admin\":\n",
    "    if password == \"1234\":\n",
    "        print(\"ورود موفقیت‌آمیز\")\n",
    "    else:\n",
    "        print(\"رمز عبور اشتباه است\")\n",
    "else:\n",
    "    print(\"نام کاربری اشتباه است\")\n"
   ]
  },
  {
   "cell_type": "markdown",
   "id": "fc1f3b14",
   "metadata": {},
   "source": [
    "\n",
    "## تمرین‌ها\n",
    "\n",
    "۱. برنامه‌ای بنویسید که یک عدد از کاربر بگیرد و بررسی کند زوج است یا فرد.\n",
    "\n",
    "۲. برنامه‌ای بنویسید که سن کاربر را بگیرد و مشخص کند آیا به سن رای‌دادن رسیده است یا نه (۱۸ سال).\n",
    "\n",
    "۳. برنامه‌ای بنویسید که یک عدد تصادفی بین ۱ تا ۱۰ انتخاب کند و کاربر آن را حدس بزند. اگر درست حدس زد پیام موفقیت وگرنه پیام خطا نشان دهد.\n",
    "\n",
    "۴. برنامه‌ای بنویسید که نام کاربری و رمز عبور را از کاربر بگیرد و بررسی کند که درست هستند یا نه.\n",
    "\n",
    "---\n"
   ]
  },
  {
   "cell_type": "code",
   "execution_count": null,
   "id": "18e54176",
   "metadata": {},
   "outputs": [],
   "source": [
    "\n",
    "# مثال: تشخیص زوج یا فرد\n",
    "num = int(input(\"یک عدد وارد کنید: \"))\n",
    "\n",
    "if ?????:\n",
    "    print(\"عدد زوج است\")\n",
    "else:\n",
    "    print(\"عدد فرد است\")\n"
   ]
  },
  {
   "cell_type": "code",
   "execution_count": null,
   "id": "6b508b74",
   "metadata": {},
   "outputs": [],
   "source": [
    "\n",
    "import random\n",
    "\n",
    "secret_number = random.randint(1, 10)\n",
    "???????\n",
    "\n",
    "if ?????:\n",
    "    print(\"آفرین! درست حدس زدی 🎉\")\n",
    "else:\n",
    "    print(f\"اشتباه شد! عدد درست {secret_number} بود.\")\n"
   ]
  },
  {
   "cell_type": "markdown",
   "id": "6f4bcbe3",
   "metadata": {},
   "source": [
    "<div dir=\"rtl\">\n",
    "\n",
    "## تشخیص سرویس ایمیل (@gmail.com یا @yahoo.com)\n",
    "\n",
    "\n",
    "برنامه‌ای بنویسید که ایمیل کاربر را بگیرد و بررسی کند آیا به @yahoo.com یا @gmail.com ختم می‌شود یا خیر.\n",
    "\n",
    "</div>"
   ]
  },
  {
   "cell_type": "markdown",
   "id": "9eefa132",
   "metadata": {},
   "source": [
    "<div dir=\"rtl\">\n",
    "\n",
    "## بررسی نام کاربری (User Validation)\n",
    "\n",
    "هدف: اطمینان از اینکه نام کاربری:\n",
    "\n",
    "طولش بین ۵ تا ۱۵ کاراکتر باشه.\n",
    "\n",
    "شامل حروف کوچک انگلیسی باشه.\n",
    "\n",
    "حداقل یک عدد داشته باشه.\n",
    "\n",
    "</div>"
   ]
  },
  {
   "cell_type": "markdown",
   "id": "d3729f58",
   "metadata": {},
   "source": [
    "<div dir=\"rtl\">\n",
    "\n",
    "</div>"
   ]
  },
  {
   "cell_type": "markdown",
   "id": "dd60d6f5",
   "metadata": {},
   "source": [
    "<div dir=\"rtl\">\n",
    "\n",
    "</div>"
   ]
  }
 ],
 "metadata": {
  "language_info": {
   "name": "python"
  }
 },
 "nbformat": 4,
 "nbformat_minor": 5
}

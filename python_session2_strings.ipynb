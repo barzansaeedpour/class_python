{
 "cells": [
  {
   "cell_type": "markdown",
   "id": "fb281350",
   "metadata": {},
   "source": [
    "\n",
    "<div dir=\"rtl\">\n",
    "\n",
    "# جلسه ۲ – رشته‌ها و کار با متن در پایتون\n",
    "\n",
    "در این جلسه یاد می‌گیریم:\n",
    "- تعریف رشته‌ها (Strings)\n",
    "- ایندکس‌گذاری و برش (Slicing)\n",
    "- توابع و متدهای پرکاربرد رشته\n",
    "- قالب‌بندی رشته‌ها (String Formatting)\n",
    "- ترکیب رشته‌ها (Concatenation)\n",
    "- تکرار رشته‌ها (Repetition)\n",
    "\n",
    "</div>\n"
   ]
  },
  {
   "cell_type": "markdown",
   "id": "9c58f473",
   "metadata": {},
   "source": [
    "\n",
    "<div dir=\"rtl\">\n",
    "\n",
    "## تعریف رشته‌ها\n",
    "\n",
    "رشته یا String مجموعه‌ای از کاراکترهاست که داخل گیومه تکی `' '` یا دوتایی `\" \"` قرار می‌گیرد.\n",
    "\n",
    "</div>\n"
   ]
  },
  {
   "cell_type": "code",
   "execution_count": null,
   "id": "93f66bfa",
   "metadata": {},
   "outputs": [],
   "source": [
    "\n",
    "text1 = \"Hello\"\n",
    "text2 = 'Python'\n",
    "print(text1)\n",
    "print(text2)\n"
   ]
  },
  {
   "cell_type": "markdown",
   "id": "f68dfda6",
   "metadata": {},
   "source": [
    "\n",
    "<div dir=\"rtl\">\n",
    "\n",
    "## ایندکس‌گذاری در رشته‌ها\n",
    "\n",
    "هر کاراکتر در رشته یک شماره (ایندکس) دارد که از صفر شروع می‌شود.\n",
    "\n",
    "</div>\n"
   ]
  },
  {
   "cell_type": "code",
   "execution_count": null,
   "id": "8903b183",
   "metadata": {},
   "outputs": [],
   "source": [
    "\n",
    "word = \"Python\"\n",
    "print(word[0])  # اولین حرف\n",
    "print(word[1])  # دومین حرف\n",
    "print(word[-1]) # آخرین حرف\n"
   ]
  },
  {
   "cell_type": "markdown",
   "id": "3edc9daa",
   "metadata": {},
   "source": [
    "\n",
    "<div dir=\"rtl\">\n",
    "\n",
    "## برش (Slicing) در رشته‌ها\n",
    "\n",
    "با استفاده از سینتکس `string[start:end]` می‌توانیم بخشی از رشته را جدا کنیم.\n",
    "\n",
    "</div>\n"
   ]
  },
  {
   "cell_type": "code",
   "execution_count": null,
   "id": "4a370edd",
   "metadata": {},
   "outputs": [],
   "source": [
    "\n",
    "text = \"Programming\"\n",
    "print(text[0:6])   # از اندیس 0 تا 5\n",
    "print(text[3:])    # از اندیس 3 تا انتها\n",
    "print(text[:5])    # از ابتدا تا اندیس 4\n",
    "print(text[::2])   # پرش دو تایی\n"
   ]
  },
  {
   "cell_type": "markdown",
   "id": "596ec38d",
   "metadata": {},
   "source": [
    "\n",
    "<div dir=\"rtl\">\n",
    "\n",
    "## توابع و متدهای پرکاربرد رشته\n",
    "\n",
    "چند متد مفید رشته‌ها:\n",
    "- `len()` طول رشته را برمی‌گرداند.\n",
    "- `.upper()` تمام حروف را بزرگ می‌کند.\n",
    "- `.lower()` تمام حروف را کوچک می‌کند.\n",
    "- `.replace(old, new)` جایگزین کردن متن.\n",
    "- `.count(substring)` تعداد تکرار زیررشته.\n",
    "- `.find(substring)` یافتن موقعیت زیررشته.\n",
    "\n",
    "</div>\n"
   ]
  },
  {
   "cell_type": "code",
   "execution_count": null,
   "id": "4341b2ab",
   "metadata": {},
   "outputs": [],
   "source": [
    "\n",
    "text = \"Python programming\"\n",
    "\n",
    "print(len(text))\n",
    "print(text.upper())\n",
    "print(text.lower())\n",
    "print(text.replace(\"Python\", \"Java\"))\n",
    "print(text.count(\"m\"))\n",
    "print(text.find(\"pro\"))\n"
   ]
  },
  {
   "cell_type": "markdown",
   "id": "d8ffff7e",
   "metadata": {},
   "source": [
    "\n",
    "<div dir=\"rtl\">\n",
    "\n",
    "## توابع و متدهای پیشرفته تر رشته\n",
    "\n",
    "</div>\n"
   ]
  },
  {
   "cell_type": "code",
   "execution_count": null,
   "id": "15f7a2c0",
   "metadata": {},
   "outputs": [],
   "source": [
    "text = \"   Python Programming Language 123   \""
   ]
  },
  {
   "cell_type": "markdown",
   "id": "eaccec68",
   "metadata": {},
   "source": [
    "\n",
    "<div dir=\"rtl\">\n",
    "اولین حرف کل رشته را بزرگ و بقیه را کوچک می‌کند (حتی اگر فاصله در اول باشد، اثر روی اولین حرف بعد از فاصله است)\n",
    ":\n",
    "</div>"
   ]
  },
  {
   "cell_type": "code",
   "execution_count": null,
   "id": "417a1641",
   "metadata": {},
   "outputs": [],
   "source": [
    "print(text.capitalize())           \n",
    "\n"
   ]
  },
  {
   "cell_type": "markdown",
   "id": "fc9a4a46",
   "metadata": {},
   "source": [
    "\n",
    "<div dir=\"rtl\">\n",
    "اولین حرف هر کلمه را بزرگ می‌کند\n",
    ":\n",
    "</div>"
   ]
  },
  {
   "cell_type": "code",
   "execution_count": null,
   "id": "ea561718",
   "metadata": {},
   "outputs": [],
   "source": [
    "print(text.title())"
   ]
  },
  {
   "cell_type": "markdown",
   "id": "eaf85fac",
   "metadata": {},
   "source": [
    "\n",
    "<div dir=\"rtl\">\n",
    "بزرگ‌ها را کوچک و کوچک‌ها را بزرگ می‌کند\n",
    ":\n",
    "</div>"
   ]
  },
  {
   "cell_type": "code",
   "execution_count": null,
   "id": "cb2dbae0",
   "metadata": {},
   "outputs": [],
   "source": [
    "print(text.swapcase())   "
   ]
  },
  {
   "cell_type": "markdown",
   "id": "8892e6e5",
   "metadata": {},
   "source": [
    "\n",
    "<div dir=\"rtl\">\n",
    "فاصله‌های خالی ابتدا و انتهای رشته را حذف می‌کند\n",
    ":\n",
    "</div>"
   ]
  },
  {
   "cell_type": "code",
   "execution_count": null,
   "id": "b7f76910",
   "metadata": {},
   "outputs": [],
   "source": [
    "print(text.strip())  "
   ]
  },
  {
   "cell_type": "markdown",
   "id": "095cfc91",
   "metadata": {},
   "source": [
    "\n",
    "<div dir=\"rtl\">\n",
    "فاصله‌های سمت چپ رشته را حذف می‌کند\n",
    ":\n",
    "</div>"
   ]
  },
  {
   "cell_type": "code",
   "execution_count": null,
   "id": "18f0087e",
   "metadata": {},
   "outputs": [],
   "source": [
    "print(text.lstrip())   "
   ]
  },
  {
   "cell_type": "markdown",
   "id": "9d103054",
   "metadata": {},
   "source": [
    "\n",
    "<div dir=\"rtl\">\n",
    "فاصله‌های سمت راست رشته را حذف می‌کند\n",
    ":\n",
    "</div>"
   ]
  },
  {
   "cell_type": "code",
   "execution_count": null,
   "id": "a3a0b605",
   "metadata": {},
   "outputs": [],
   "source": [
    "print(text.rstrip())    "
   ]
  },
  {
   "cell_type": "markdown",
   "id": "e6c5e944",
   "metadata": {},
   "source": [
    "<div dir=\"rtl\">\n",
    "\n",
    "بررسی می‌کند آیا رشته با \"Py\" شروع شده یا نه (True یا False)\n",
    ":\n",
    "</div>\n"
   ]
  },
  {
   "cell_type": "code",
   "execution_count": null,
   "id": "20f40bd8",
   "metadata": {},
   "outputs": [],
   "source": [
    "\n",
    "print(text.startswith(\"Py\"))"
   ]
  },
  {
   "cell_type": "markdown",
   "id": "2e92b4f1",
   "metadata": {},
   "source": [
    "\n",
    "<div dir=\"rtl\">\n",
    "بررسی می‌کند آیا رشته با \"ge\" تمام شده یا نه\n",
    ":\n",
    "</div>"
   ]
  },
  {
   "cell_type": "code",
   "execution_count": null,
   "id": "61652b94",
   "metadata": {},
   "outputs": [],
   "source": [
    "print(text.endswith(\"ge\"))  "
   ]
  },
  {
   "cell_type": "markdown",
   "id": "110c1631",
   "metadata": {},
   "source": [
    "\n",
    "<div dir=\"rtl\">\n",
    "اولین موقعیت (ایندکس) \"Pro\" در رشته را برمی‌گرداند، اگر پیدا نشود -1\n",
    ":\n",
    "</div>"
   ]
  },
  {
   "cell_type": "code",
   "execution_count": null,
   "id": "e5d0d862",
   "metadata": {},
   "outputs": [],
   "source": [
    "print(text.find(\"Pro\"))   "
   ]
  },
  {
   "cell_type": "markdown",
   "id": "852f13ba",
   "metadata": {},
   "source": [
    "\n",
    "<div dir=\"rtl\">\n",
    " آخرین موقعیت \"g\" را در رشته برمی‌گرداند\n",
    ":\n",
    "</div>"
   ]
  },
  {
   "cell_type": "code",
   "execution_count": null,
   "id": "02620928",
   "metadata": {},
   "outputs": [],
   "source": [
    "print(text.rfind(\"g\"))   "
   ]
  },
  {
   "cell_type": "markdown",
   "id": "b7ed0d81",
   "metadata": {},
   "source": [
    "\n",
    "<div dir=\"rtl\">\n",
    "تعداد تکرار \"m\" در رشته را برمی‌گرداند\n",
    ":\n",
    "</div>"
   ]
  },
  {
   "cell_type": "code",
   "execution_count": null,
   "id": "9381c731",
   "metadata": {},
   "outputs": [],
   "source": [
    "print(text.count(\"m\"))      "
   ]
  },
  {
   "cell_type": "markdown",
   "id": "095c3777",
   "metadata": {},
   "source": [
    "\n",
    "<div dir=\"rtl\">\n",
    "رشته را بر اساس فاصله‌ها به لیست کلمات جدا می‌کند\n",
    ":\n",
    "</div>"
   ]
  },
  {
   "cell_type": "code",
   "execution_count": null,
   "id": "91abd8ae",
   "metadata": {},
   "outputs": [],
   "source": [
    "print(text.split())     "
   ]
  },
  {
   "cell_type": "markdown",
   "id": "2a46c659",
   "metadata": {},
   "source": [
    "\n",
    "<div dir=\"rtl\">\n",
    "رشته را از سمت راست، حداکثر به ۳ بخش بر اساس \" \" تقسیم می‌کند\n",
    ":\n",
    "</div>"
   ]
  },
  {
   "cell_type": "code",
   "execution_count": null,
   "id": "ac2ac03c",
   "metadata": {},
   "outputs": [],
   "source": [
    "print(text.rsplit(\" \", 2))  "
   ]
  },
  {
   "cell_type": "markdown",
   "id": "af9f34f6",
   "metadata": {},
   "source": [
    "\n",
    "<div dir=\"rtl\">\n",
    "رشته را بر اساس خطوط جدا می‌کند (کاراکتر \\n)\n",
    ":\n",
    "</div>"
   ]
  },
  {
   "cell_type": "code",
   "execution_count": null,
   "id": "2aa465f3",
   "metadata": {},
   "outputs": [],
   "source": [
    "print(\"Line1\\nLine2\".splitlines())"
   ]
  },
  {
   "cell_type": "markdown",
   "id": "1217cc40",
   "metadata": {},
   "source": [
    "\n",
    "<div dir=\"rtl\">\n",
    "اعضای لیست را با \"-\" به هم وصل می‌کند\n",
    ":\n",
    "</div>"
   ]
  },
  {
   "cell_type": "code",
   "execution_count": null,
   "id": "018a6b3e",
   "metadata": {},
   "outputs": [],
   "source": [
    "print(\"-\".join([\"a\",\"b\",\"c\"]))  "
   ]
  },
  {
   "cell_type": "markdown",
   "id": "e55b3319",
   "metadata": {},
   "source": [
    "\n",
    "<div dir=\"rtl\">\n",
    "رشته \"Python\" را وسط‌چین کرده و با \"-\" پر می‌کند تا طولش ۲۰ شود\n",
    ":\n",
    "</div>"
   ]
  },
  {
   "cell_type": "code",
   "execution_count": null,
   "id": "a84cdc21",
   "metadata": {},
   "outputs": [],
   "source": [
    "print(\"Python\".center(20, \"-\"))"
   ]
  },
  {
   "cell_type": "markdown",
   "id": "0490462f",
   "metadata": {},
   "source": [
    "\n",
    "<div dir=\"rtl\">\n",
    "رشته را چپ‌چین کرده و با \"*\" پر می‌کند\n",
    ":\n",
    "</div>"
   ]
  },
  {
   "cell_type": "code",
   "execution_count": null,
   "id": "ebe9f543",
   "metadata": {},
   "outputs": [],
   "source": [
    "print(\"Python\".ljust(20, \"*\"))"
   ]
  },
  {
   "cell_type": "markdown",
   "id": "18632df9",
   "metadata": {},
   "source": [
    "\n",
    "<div dir=\"rtl\">\n",
    "رشته را راست‌چین کرده و با \"*\" پر می‌کند\n",
    ":\n",
    "</div>"
   ]
  },
  {
   "cell_type": "code",
   "execution_count": null,
   "id": "5f2f5e8b",
   "metadata": {},
   "outputs": [],
   "source": [
    "print(\"Python\".rjust(20, \"*\"))"
   ]
  },
  {
   "cell_type": "markdown",
   "id": "b9ef4915",
   "metadata": {},
   "source": [
    "\n",
    "<div dir=\"rtl\">\n",
    "رشته را با صفر از سمت چپ پر می‌کند تا طولش ۵ شود (00042)\n",
    ":\n",
    "</div>"
   ]
  },
  {
   "cell_type": "code",
   "execution_count": null,
   "id": "4e2427d2",
   "metadata": {},
   "outputs": [],
   "source": [
    "print(\"42\".zfill(5))"
   ]
  },
  {
   "cell_type": "markdown",
   "id": "41f366a7",
   "metadata": {},
   "source": [
    "\n",
    "<div dir=\"rtl\">\n",
    "بررسی می‌کند که تمام کاراکترها حرف هستند (True برای حروف فارسی هم کار می‌کند)\n",
    ":\n",
    "</div>"
   ]
  },
  {
   "cell_type": "code",
   "execution_count": null,
   "id": "083948c7",
   "metadata": {},
   "outputs": [],
   "source": [
    "print(\"سلام\".isalpha())"
   ]
  },
  {
   "cell_type": "markdown",
   "id": "2c778067",
   "metadata": {},
   "source": [
    "\n",
    "<div dir=\"rtl\">\n",
    "بررسی می‌کند که همه کاراکترها عدد هستند\n",
    ":\n",
    "</div>"
   ]
  },
  {
   "cell_type": "code",
   "execution_count": null,
   "id": "913f2cc9",
   "metadata": {},
   "outputs": [],
   "source": [
    "print(\"12345\".isdigit())"
   ]
  },
  {
   "cell_type": "markdown",
   "id": "86190a5d",
   "metadata": {},
   "source": [
    "\n",
    "<div dir=\"rtl\">\n",
    "بررسی می‌کند که همه کاراکترها یا حرف یا عدد باشند (بدون فاصله یا علامت)\n",
    ":\n",
    "</div>"
   ]
  },
  {
   "cell_type": "code",
   "execution_count": null,
   "id": "fb795ab5",
   "metadata": {},
   "outputs": [],
   "source": [
    "print(\"abc123\".isalnum())"
   ]
  },
  {
   "cell_type": "markdown",
   "id": "45988b13",
   "metadata": {},
   "source": [
    "\n",
    "<div dir=\"rtl\">\n",
    "بررسی می‌کند که رشته فقط شامل فاصله باشد\n",
    ":\n",
    "</div>"
   ]
  },
  {
   "cell_type": "code",
   "execution_count": null,
   "id": "9f1b0aee",
   "metadata": {},
   "outputs": [],
   "source": [
    "print(\"   \".isspace())"
   ]
  },
  {
   "cell_type": "markdown",
   "id": "d23aa578",
   "metadata": {},
   "source": [
    "\n",
    "<div dir=\"rtl\">\n",
    "بررسی می‌کند که رشته به فرمت Title Case باشد (اولین حرف هر کلمه بزرگ)\n",
    ":\n",
    "</div>"
   ]
  },
  {
   "cell_type": "code",
   "execution_count": null,
   "id": "2b8c8033",
   "metadata": {},
   "outputs": [],
   "source": [
    "print(\"Hello World\".istitle())"
   ]
  },
  {
   "cell_type": "markdown",
   "id": "84b8c78d",
   "metadata": {},
   "source": [
    "\n",
    "<div dir=\"rtl\">\n",
    "\n",
    "## قالب‌بندی رشته‌ها (String Formatting)\n",
    "\n",
    "برای ترکیب متن و متغیرها می‌توانیم از:\n",
    "- **f-strings**\n",
    "- **متد `.format()`**\n",
    "- **عملگر `%`**\n",
    "\n",
    "استفاده کنیم.\n",
    "\n",
    "</div>\n"
   ]
  },
  {
   "cell_type": "code",
   "execution_count": null,
   "id": "e5353c34",
   "metadata": {},
   "outputs": [],
   "source": [
    "\n",
    "name = \"Ali\"\n",
    "age = 25\n",
    "\n",
    "# f-string\n",
    "print(f\"My name is {name} and I am {age} years old.\")\n",
    "\n",
    "# format\n",
    "print(\"My name is {} and I am {} years old.\".format(name, age))\n",
    "\n",
    "# % formatting\n",
    "print(\"My name is %s and I am %d years old.\" % (name, age))\n"
   ]
  },
  {
   "cell_type": "markdown",
   "id": "2f8ef935",
   "metadata": {},
   "source": [
    "\n",
    "<div dir=\"rtl\">\n",
    "\n",
    "## ترکیب رشته‌ها (Concatenation) و تکرار\n",
    "\n",
    "می‌توان رشته‌ها را با `+` به هم چسباند و با `*` تکرار کرد.\n",
    "\n",
    "</div>\n"
   ]
  },
  {
   "cell_type": "code",
   "execution_count": null,
   "id": "2e5517f0",
   "metadata": {},
   "outputs": [],
   "source": [
    "\n",
    "greet = \"Hello\"\n",
    "lang = \"Python\"\n",
    "\n",
    "# ترکیب\n",
    "result = greet + \" \" + lang\n",
    "print(result)\n",
    "\n",
    "# تکرار\n",
    "print(\"Hi! \" * 3)\n"
   ]
  },
  {
   "cell_type": "markdown",
   "id": "f5c7381b",
   "metadata": {},
   "source": [
    "\n",
    "<div dir=\"rtl\">\n",
    "\n",
    "## تمرین ها\n",
    "\n",
    "1. یک رشته از کاربر بگیرید و:\n",
    "   - طول آن را چاپ کنید.\n",
    "   - آن را به حروف بزرگ و کوچک تبدیل کنید.\n",
    "2. یک رشته از کاربر بگیرید و تعداد کلمات داخل رشته را بشمارید\n",
    "3. از کاربر یک جمله بگیرید و تعداد یک کلمه خاص را در آن بشمارید.\n",
    "4. نام و نام خانوادگی کاربر را بگیرید و با قالب‌بندی (f-string) چاپ کنید.\n",
    "5. از کاربر یک رشته بگیرید و برعکس آن را چاپ کنید (با Slicing).\n",
    "6. دو رشته از کاربر بگیرید و آنها را با یک فاصله بینشان ترکیب کنید.\n",
    "7. رشته‌ای وارد کنید و خروجی رشته‌ای باشد که تمام فاصله‌های داخل آن حذف شده‌اند\n",
    "8. رشته‌ای از کلمات وارد کنید، سپس بزرگ‌ترین (بیشترین طول) و کوچک‌ترین (کمترین طول) کلمه را چاپ کنید\n",
    "9. رشته‌ای وارد کنید و تمام حروف بزرگ را کوچک و حروف کوچک را بزرگ کنید (swap case)\n",
    "\n",
    "</div>\n"
   ]
  },
  {
   "cell_type": "markdown",
   "id": "3043900c",
   "metadata": {},
   "source": [
    "<div dir=\"rtl\">\n",
    "\n",
    "1. یک رشته از کاربر بگیرید و:\n",
    "   - طول آن را چاپ کنید.\n",
    "   - آن را به حروف بزرگ و کوچک تبدیل کنید.\n",
    "\n",
    "\n",
    "خروجی های قابل انتظار:\n",
    "\n",
    "1. طول رشته و تبدیل به حروف بزرگ و کوچک  \n",
    "توضیح:  \n",
    "طول رشته ورودی را نمایش می‌دهد و همچنین رشته را به حروف بزرگ و کوچک تبدیل می‌کند.  \n",
    "Input:  \n",
    "Hello World  \n",
    "Output:  \n",
    "Length of string: 11  \n",
    "Uppercase: HELLO WORLD  \n",
    "Lowercase: hello world  \n",
    "\n",
    "---\n",
    "2. یک رشته از کاربر بگیرید و تعداد کلمات داخل رشته را بشمارید\n",
    "\n",
    "\n",
    "خروجی های قابل انتظار:\n",
    "\n",
    "2. شمارش تعداد کلمات در رشته  \n",
    "توضیح:  \n",
    "تعداد کلمات موجود در رشته را می‌شمارد.  \n",
    "Input:  \n",
    "This is a sample sentence  \n",
    "Output:  \n",
    "Number of words: 5  \n",
    "\n",
    "---\n",
    "\n",
    "3. از کاربر یک جمله بگیرید و تعداد یک کلمه خاص را در آن بشمارید.\n",
    "\n",
    "خروجی های قابل انتظار:\n",
    "\n",
    "3. شمارش تعداد یک کلمه خاص در جمله  \n",
    "توضیح:  \n",
    "تعداد دفعات تکرار یک کلمه خاص در جمله را پیدا می‌کند.  \n",
    "Input:  \n",
    "Sentence: I love Python because Python is simple  \n",
    "Word to count: Python  \n",
    "Output:  \n",
    "Number of occurrences of 'Python' in the sentence: 2  \n",
    "\n",
    "---\n",
    "\n",
    "4. نام و نام خانوادگی کاربر را بگیرید و با قالب‌بندی (f-string) چاپ کنید.\n",
    "\n",
    "خروجی های قابل انتظار:\n",
    "\n",
    "4. دریافت نام و نام خانوادگی و چاپ با قالب‌بندی f-string  \n",
    "توضیح:  \n",
    "نام و نام خانوادگی را دریافت و به صورت قالب‌بندی شده چاپ می‌کند.  \n",
    "Input:  \n",
    "First name: Ali  \n",
    "Last name: Mohammadi  \n",
    "Output:  \n",
    "Your full name: Ali Mohammadi  \n",
    "\n",
    "---\n",
    "\n",
    "5. از کاربر یک رشته بگیرید و برعکس آن را چاپ کنید (با Slicing).\n",
    "\n",
    "خروجی های قابل انتظار:\n",
    "\n",
    "5. معکوس کردن رشته با استفاده از Slicing  \n",
    "توضیح:  \n",
    "رشته ورودی را معکوس می‌کند.  \n",
    "Input:  \n",
    "python  \n",
    "Output:  \n",
    "Reversed string: nohtyp  \n",
    "\n",
    "---\n",
    "\n",
    "6. دو رشته از کاربر بگیرید و آنها را با یک فاصله بینشان ترکیب کنید.\n",
    "\n",
    "خروجی های قابل انتظار:\n",
    "\n",
    "توضیح:  \n",
    "دو رشته را با یک فاصله بین آن‌ها به هم می‌چسباند.  \n",
    "Input:  \n",
    "First string: Hello  \n",
    "Second string: World  \n",
    "Output:  \n",
    "Combined string: Hello World  \n",
    "\n",
    "---\n",
    "\n",
    "7. رشته‌ای وارد کنید و خروجی رشته‌ای باشد که تمام فاصله‌های داخل آن حذف شده‌اند\n",
    "\n",
    "خروجی های قابل انتظار:\n",
    "\n",
    "توضیح:  \n",
    "تمام فاصله‌های موجود در رشته را حذف می‌کند.  \n",
    "Input:  \n",
    "Hello World How Are You  \n",
    "Output:  \n",
    "String without spaces: HelloWorldHowAreYou  \n",
    "\n",
    "---\n",
    "\n",
    "8. رشته‌ای از کلمات وارد کنید، سپس بزرگ‌ترین (بیشترین طول) و کوچک‌ترین (کمترین طول) کلمه را چاپ کنید\n",
    "\n",
    "خروجی های قابل انتظار:\n",
    "\n",
    "توضیح:  \n",
    "کلمات موجود در رشته را بررسی کرده و بزرگ‌ترین و کوچک‌ترین کلمه را نمایش می‌دهد.  \n",
    "Input:  \n",
    "Programming Python is fun  \n",
    "Output:  \n",
    "Longest word: Programming  \n",
    "Shortest word: is  \n",
    "\n",
    "---\n",
    "\n",
    "9. رشته‌ای وارد کنید و تمام حروف بزرگ را کوچک و حروف کوچک را بزرگ کنید (swap case)\n",
    "\n",
    "خروجی های قابل انتظار:\n",
    "\n",
    "توضیح:  \n",
    "حروف بزرگ را کوچک و حروف کوچک را بزرگ می‌کند.  \n",
    "Input:  \n",
    "PyTHon  \n",
    "Output:  \n",
    "Swapped case string: pYthON  \n",
    "\n",
    "</div>\n"
   ]
  },
  {
   "cell_type": "markdown",
   "id": "8d82a42a",
   "metadata": {},
   "source": []
  }
 ],
 "metadata": {
  "kernelspec": {
   "display_name": "env",
   "language": "python",
   "name": "python3"
  },
  "language_info": {
   "codemirror_mode": {
    "name": "ipython",
    "version": 3
   },
   "file_extension": ".py",
   "mimetype": "text/x-python",
   "name": "python",
   "nbconvert_exporter": "python",
   "pygments_lexer": "ipython3",
   "version": "3.12.3"
  }
 },
 "nbformat": 4,
 "nbformat_minor": 5
}

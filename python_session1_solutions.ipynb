{
 "cells": [
  {
   "cell_type": "markdown",
   "id": "16ec14f0",
   "metadata": {},
   "source": [
    "<div dir=\"rtl\">\n",
    "\n",
    "<h1>جواب تمرین ها</h1>\n",
    "\n",
    "<ol>\n",
    "<li>چاپ اطلاعات کاربر — برنامه‌ای بنویسید که نام و سن کاربر را دریافت و چاپ کند.</li>\n",
    "<li>جمع دو عدد — برنامه‌ای بنویسید که دو عدد را از کاربر بگیرد و جمع آن‌ها را چاپ کند.</li>\n",
    "<li>محاسبه مساحت دایره یا مستطیل — برنامه‌ای بنویسید که با گرفتن شعاع دایره، مساحت آن را محاسبه کند:\n",
    "<code>مساحت دایره = π × r²</code>\n",
    "یا با گرفتن طول و عرض مستطیل، مساحت آن را محاسبه کند.</li>\n",
    "</ol>\n",
    "\n",
    "</div>\n"
   ]
  },
  {
   "cell_type": "code",
   "execution_count": 4,
   "id": "a6c89078",
   "metadata": {},
   "outputs": [
    {
     "name": "stdout",
     "output_type": "stream",
     "text": [
      "سلام * شما * ساله هستید.\n"
     ]
    }
   ],
   "source": [
    "# تمرین 1: چاپ اطلاعات کاربر\n",
    "name = input(\"نام خود را وارد کنید: \")\n",
    "age = input(\"سن خود را وارد کنید: \")\n",
    "print(\"سلام\", name, \"شما\", age, \"ساله هستید.\")\n",
    "\n"
   ]
  },
  {
   "cell_type": "code",
   "execution_count": 5,
   "id": "d09b2ae1",
   "metadata": {},
   "outputs": [
    {
     "name": "stdout",
     "output_type": "stream",
     "text": [
      "جمع دو عدد = 33.0\n"
     ]
    }
   ],
   "source": [
    "\n",
    "# تمرین 2: جمع دو عدد\n",
    "num1 = float(input(\"عدد اول را وارد کنید: \"))\n",
    "num2 = float(input(\"عدد دوم را وارد کنید: \"))\n",
    "print(\"جمع دو عدد =\", num1 + num2)\n"
   ]
  },
  {
   "cell_type": "code",
   "execution_count": 6,
   "id": "bea781b5",
   "metadata": {},
   "outputs": [
    {
     "name": "stdout",
     "output_type": "stream",
     "text": [
      "مساحت دایره = 28.274309999999996\n"
     ]
    }
   ],
   "source": [
    "# محاسبه مساحت دایره\n",
    "r = float(input(\"شعاع دایره را وارد کنید: \"))\n",
    "area_circle = 3.14159 * r * r\n",
    "print(\"مساحت دایره =\", area_circle)\n"
   ]
  },
  {
   "cell_type": "code",
   "execution_count": 7,
   "id": "c3f9e5f5",
   "metadata": {},
   "outputs": [
    {
     "name": "stdout",
     "output_type": "stream",
     "text": [
      "مساحت مستطیل = 12.0\n"
     ]
    }
   ],
   "source": [
    "# محاسبه مساحت مستطیل\n",
    "length = float(input(\"طول مستطیل را وارد کنید: \"))\n",
    "width = float(input(\"عرض مستطیل را وارد کنید: \"))\n",
    "area_rectangle = length * width\n",
    "print(\"مساحت مستطیل =\", area_rectangle)\n"
   ]
  }
 ],
 "metadata": {
  "kernelspec": {
   "display_name": "env",
   "language": "python",
   "name": "python3"
  },
  "language_info": {
   "codemirror_mode": {
    "name": "ipython",
    "version": 3
   },
   "file_extension": ".py",
   "mimetype": "text/x-python",
   "name": "python",
   "nbconvert_exporter": "python",
   "pygments_lexer": "ipython3",
   "version": "3.12.3"
  }
 },
 "nbformat": 4,
 "nbformat_minor": 5
}

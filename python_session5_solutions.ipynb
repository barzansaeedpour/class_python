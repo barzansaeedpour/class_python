{
 "cells": [
  {
   "cell_type": "markdown",
   "id": "bd7dab2c",
   "metadata": {},
   "source": [
    "\n",
    "<div dir=\"rtl\">\n",
    "\n",
    "## تمرین: سایر متدهای لیست\n",
    "\n",
    "پنج متد مهم دیگر لیست را سرچ کنید و مثال های آن را در زیر اضافه کنید\n",
    "</div>\n"
   ]
  },
  {
   "cell_type": "markdown",
   "id": "ac682b08",
   "metadata": {},
   "source": [
    "۱. extend() – افزودن چند عنصر به انتهای لیست"
   ]
  },
  {
   "cell_type": "code",
   "execution_count": 2,
   "id": "4748c0be",
   "metadata": {},
   "outputs": [
    {
     "name": "stdout",
     "output_type": "stream",
     "text": [
      "[1, 2, 3, 4, 5, 6]\n"
     ]
    }
   ],
   "source": [
    "# متد extend: اضافه کردن چند عدد دیگر به انتهای لیست\n",
    "numbers = [1, 2, 3]\n",
    "numbers.extend([4, 5, 6])\n",
    "print(numbers)  \n",
    "# خروجی: [1, 2, 3, 4, 5, 6]\n"
   ]
  },
  {
   "cell_type": "markdown",
   "id": "7aa4ad1d",
   "metadata": {},
   "source": [
    "۲. index() – پیدا کردن مکان اولین وقوع مقدار"
   ]
  },
  {
   "cell_type": "code",
   "execution_count": 4,
   "id": "098f56a1",
   "metadata": {},
   "outputs": [
    {
     "name": "stdout",
     "output_type": "stream",
     "text": [
      "1\n"
     ]
    }
   ],
   "source": [
    "# متد index: مکان اولین 'banana' در لیست\n",
    "fruits = [\"apple\", \"banana\", \"cherry\", \"banana\"]\n",
    "print(fruits.index(\"banana\"))  \n",
    "# خروجی: 1\n"
   ]
  },
  {
   "cell_type": "markdown",
   "id": "f877fcff",
   "metadata": {},
   "source": [
    "۳. count() – شمارش تعداد تکرار یک مقدار"
   ]
  },
  {
   "cell_type": "code",
   "execution_count": null,
   "id": "6ab6374a",
   "metadata": {},
   "outputs": [
    {
     "name": "stdout",
     "output_type": "stream",
     "text": [
      "3\n"
     ]
    }
   ],
   "source": [
    "# متد count: چند بار عدد 2 در لیست آمده؟\n",
    "numbers = [1, 2, 2, 3, 4, 2, 5]\n",
    "print(numbers.count(2))  \n",
    "# خروجی: 3\n"
   ]
  },
  {
   "cell_type": "markdown",
   "id": "e1f923c1",
   "metadata": {},
   "source": [
    "۴. reverse() – برعکس کردن ترتیب لیست"
   ]
  },
  {
   "cell_type": "code",
   "execution_count": null,
   "id": "376a9dc0",
   "metadata": {},
   "outputs": [
    {
     "name": "stdout",
     "output_type": "stream",
     "text": [
      "['d', 'c', 'b', 'a']\n"
     ]
    }
   ],
   "source": [
    "# متد reverse: برعکس کردن ترتیب عناصر لیست\n",
    "letters = [\"a\", \"b\", \"c\", \"d\"]\n",
    "letters.reverse()\n",
    "print(letters)  \n",
    "# خروجی: ['d', 'c', 'b', 'a']\n"
   ]
  },
  {
   "cell_type": "markdown",
   "id": "4789902c",
   "metadata": {},
   "source": [
    "۵. copy() – ایجاد یک کپی مستقل از لیست"
   ]
  },
  {
   "cell_type": "code",
   "execution_count": 7,
   "id": "c4e76521",
   "metadata": {},
   "outputs": [
    {
     "name": "stdout",
     "output_type": "stream",
     "text": [
      "[10, 20, 30]\n",
      "[10, 20, 30, 40]\n"
     ]
    }
   ],
   "source": [
    "# متد copy: ایجاد کپی از لیست اصلی\n",
    "original = [10, 20, 30]\n",
    "new_list = original.copy()\n",
    "new_list.append(40)\n",
    "\n",
    "print(original)   # خروجی: [10, 20, 30]\n",
    "print(new_list)   # خروجی: [10, 20, 30, 40]\n"
   ]
  },
  {
   "cell_type": "markdown",
   "id": "cfa7088e",
   "metadata": {},
   "source": [
    "<div dir=\"rtl\">\n",
    "\n",
    "## یک مثال از کاربرد copy\n",
    "\n",
    "فرض کنید یک کلاس درس داریم و لیست اسامی دانش‌آموزان اصلی را نگه‌داری می‌کنیم. می‌خواهیم چند گروه برای فعالیت کلاسی درست کنیم، اما نمی‌خواهیم لیست اصلی دانش‌آموزان تغییر کند.\n",
    "\n",
    "</div>"
   ]
  },
  {
   "cell_type": "code",
   "execution_count": 8,
   "id": "5e4f28f0",
   "metadata": {},
   "outputs": [
    {
     "name": "stdout",
     "output_type": "stream",
     "text": [
      "لیست اصلی دانش‌آموزان: ['علی', 'زهرا', 'رضا', 'مریم', 'حسین']\n",
      "گروه ۱: ['زهرا', 'رضا', 'مریم', 'حسین']\n",
      "گروه ۲: ['علی', 'رضا', 'مریم', 'حسین']\n"
     ]
    }
   ],
   "source": [
    "# لیست اصلی دانش‌آموزان\n",
    "students = [\"علی\", \"زهرا\", \"رضا\", \"مریم\", \"حسین\"]\n",
    "\n",
    "# متد copy: ایجاد یک کپی برای گروه ۱\n",
    "group1 = students.copy()\n",
    "group1.remove(\"علی\")   # حذف یک نفر از گروه ۱\n",
    "\n",
    "# متد copy: ایجاد یک کپی برای گروه ۲\n",
    "group2 = students.copy()\n",
    "group2.remove(\"زهرا\")  # حذف یک نفر از گروه ۲\n",
    "\n",
    "print(\"لیست اصلی دانش‌آموزان:\", students)\n",
    "# خروجی: ['علی', 'زهرا', 'رضا', 'مریم', 'حسین']\n",
    "\n",
    "print(\"گروه ۱:\", group1)\n",
    "# خروجی: ['زهرا', 'رضا', 'مریم', 'حسین']\n",
    "\n",
    "print(\"گروه ۲:\", group2)\n",
    "# خروجی: ['علی', 'رضا', 'مریم', 'حسین']\n"
   ]
  },
  {
   "cell_type": "markdown",
   "id": "8aa00a25",
   "metadata": {},
   "source": [
    "\n",
    "<div dir=\"rtl\">\n",
    "\n",
    "## تمرینات ساده\n",
    "\n",
    "1. لیستی از ۵ عدد بسازید و آن را مرتب کنید.  \n",
    "2. لیستی از اسامی ایجاد کنید و یکی از آن‌ها را با استفاده از ایندکس تغییر دهید.  \n",
    "3. برنامه‌ای بنویسید که بررسی کند آیا یک عنصر در لیست وجود دارد یا خیر.  \n",
    "\n",
    "</div>\n"
   ]
  },
  {
   "cell_type": "code",
   "execution_count": 12,
   "id": "4a221a28",
   "metadata": {},
   "outputs": [
    {
     "name": "stdout",
     "output_type": "stream",
     "text": [
      "لیست مرتب شده: [3, 7, 19, 42, 88]\n"
     ]
    }
   ],
   "source": [
    "# =========================\n",
    "# تمرین 1: مرتب کردن لیست\n",
    "# =========================\n",
    "numbers = [42, 7, 19, 3, 88]   # ایجاد یک لیست از 5 عدد\n",
    "numbers.sort()                 # مرتب‌سازی لیست به صورت صعودی\n",
    "print(\"لیست مرتب شده:\", numbers)\n",
    "\n"
   ]
  },
  {
   "cell_type": "code",
   "execution_count": 13,
   "id": "a8a090ba",
   "metadata": {},
   "outputs": [
    {
     "name": "stdout",
     "output_type": "stream",
     "text": [
      "لیست بعد از تغییر: ['Ali', 'Fatemeh', 'Reza', 'Maryam']\n"
     ]
    }
   ],
   "source": [
    "# =========================\n",
    "# تمرین 2: تغییر یک عنصر با ایندکس\n",
    "# =========================\n",
    "names = [\"Ali\", \"Sara\", \"Reza\", \"Maryam\"]   # لیست اسامی\n",
    "names[1] = \"Fatemeh\"                        # تغییر عنصر با ایندکس 1 (دومین اسم)\n",
    "print(\"لیست بعد از تغییر:\", names)\n",
    "\n"
   ]
  },
  {
   "cell_type": "code",
   "execution_count": 14,
   "id": "1983594e",
   "metadata": {},
   "outputs": [
    {
     "name": "stdout",
     "output_type": "stream",
     "text": [
      "banana در لیست وجود دارد ✅\n"
     ]
    }
   ],
   "source": [
    "# =========================\n",
    "# تمرین 3: بررسی وجود یک عنصر در لیست\n",
    "# =========================\n",
    "fruits = [\"apple\", \"banana\", \"orange\", \"grape\"]\n",
    "item = \"banana\"\n",
    "\n",
    "if item in fruits:   # بررسی وجود عنصر\n",
    "    print(item, \"در لیست وجود دارد ✅\")\n",
    "else:\n",
    "    print(item, \"در لیست وجود ندارد ❌\")"
   ]
  },
  {
   "cell_type": "markdown",
   "id": "d0e33c19",
   "metadata": {},
   "source": [
    "\n",
    "<div dir=\"rtl\">\n",
    "\n",
    "## تمرین: برنامه مدیریت لیست خرید\n",
    "\n",
    "یک برنامه بنویسید که:\n",
    "\n",
    "1. یک لیست خرید خالی ایجاد کند.  \n",
    "2. با استفاده از `append` چند آیتم به لیست اضافه کند.  \n",
    "3. یک آیتم خاص را حذف کند.  \n",
    "4. تمام آیتم‌ها را با حلقه چاپ کند.  \n",
    "\n",
    "</div>\n"
   ]
  },
  {
   "cell_type": "code",
   "execution_count": 15,
   "id": "349cab51",
   "metadata": {},
   "outputs": [
    {
     "name": "stdout",
     "output_type": "stream",
     "text": [
      "لیست خرید فعلی: ['شیر', 'نان', 'کره']\n",
      "'نان' حذف شد ✅\n",
      "\n",
      "📌 لیست خرید نهایی:\n",
      "- شیر\n",
      "- کره\n"
     ]
    }
   ],
   "source": [
    "# ================================\n",
    "# 🛒 تمرین: برنامه مدیریت لیست خرید (با input)\n",
    "# ================================\n",
    "\n",
    "# 1. ایجاد لیست خرید خالی\n",
    "shopping_list = []\n",
    "\n",
    "# 2. اضافه کردن آیتم‌ها با input\n",
    "count = int(input(\"چند آیتم می‌خواهید به لیست خرید اضافه کنید؟ \"))\n",
    "\n",
    "for i in range(count):\n",
    "    item = input(f\"آیتم شماره {i+1} را وارد کنید: \")\n",
    "    shopping_list.append(item)\n",
    "\n",
    "print(\"لیست خرید فعلی:\", shopping_list)\n",
    "\n",
    "# 3. حذف یک آیتم خاص\n",
    "remove_item = input(\"نام آیتمی که می‌خواهید حذف کنید را وارد کنید: \")\n",
    "if remove_item in shopping_list:\n",
    "    shopping_list.remove(remove_item)\n",
    "    print(f\"'{remove_item}' حذف شد ✅\")\n",
    "else:\n",
    "    print(f\"'{remove_item}' در لیست وجود ندارد ❌\")\n",
    "\n",
    "# 4. چاپ تمام آیتم‌ها با حلقه\n",
    "print(\"\\n📌 لیست خرید نهایی:\")\n",
    "for item in shopping_list:\n",
    "    print(\"-\", item)\n"
   ]
  },
  {
   "cell_type": "markdown",
   "id": "8071a423",
   "metadata": {},
   "source": [
    "\n",
    "<div dir=\"rtl\">\n",
    "\n",
    "## تمرینات: ترکیب لیست و حلقه‌ها\n",
    "\n",
    "1. لیستی از اعداد بسازید و مجموع تمام آن‌ها را با حلقه محاسبه کنید.  \n",
    "2. برنامه‌ای بنویسید که تعداد تکرار یک عنصر خاص در لیست را پیدا کند.  \n",
    "3. لیستی از کلمات بسازید و همه آن‌ها را به صورت جداگانه چاپ کنید.  \n",
    "\n",
    "</div>\n"
   ]
  },
  {
   "cell_type": "code",
   "execution_count": 16,
   "id": "4d38c639",
   "metadata": {},
   "outputs": [
    {
     "name": "stdout",
     "output_type": "stream",
     "text": [
      "مجموع اعداد: 28\n"
     ]
    }
   ],
   "source": [
    "# =========================\n",
    "# تمرین 1: محاسبه مجموع اعداد با حلقه\n",
    "# =========================\n",
    "numbers = [5, 10, 3, 8, 2]\n",
    "total = 0\n",
    "for num in numbers:\n",
    "    total += num   # جمع کردن هر عدد\n",
    "print(\"مجموع اعداد:\", total)\n",
    "\n"
   ]
  },
  {
   "cell_type": "code",
   "execution_count": 17,
   "id": "8998a0e6",
   "metadata": {},
   "outputs": [
    {
     "name": "stdout",
     "output_type": "stream",
     "text": [
      "تعداد تکرار 'apple': 3\n"
     ]
    }
   ],
   "source": [
    "# =========================\n",
    "# تمرین 2: تعداد تکرار یک عنصر خاص\n",
    "# =========================\n",
    "fruits = [\"apple\", \"banana\", \"apple\", \"orange\", \"banana\", \"apple\"]\n",
    "target = \"apple\"\n",
    "count = 0\n",
    "for fruit in fruits:\n",
    "    if fruit == target:\n",
    "        count += 1\n",
    "print(f\"تعداد تکرار '{target}':\", count)\n",
    "\n"
   ]
  },
  {
   "cell_type": "code",
   "execution_count": 18,
   "id": "6f811e6a",
   "metadata": {},
   "outputs": [
    {
     "name": "stdout",
     "output_type": "stream",
     "text": [
      "- سلام\n",
      "- دوست\n",
      "- من\n",
      "- چطوری؟\n"
     ]
    }
   ],
   "source": [
    "# =========================\n",
    "# تمرین 3: چاپ لیست کلمات\n",
    "# =========================\n",
    "words = [\"سلام\", \"دوست\", \"من\", \"چطوری؟\"]\n",
    "for word in words:\n",
    "    print(\"-\", word)\n"
   ]
  },
  {
   "cell_type": "markdown",
   "id": "6125ec18",
   "metadata": {},
   "source": [
    "\n",
    "<div dir=\"rtl\">\n",
    "\n",
    "## تمرینات پیشرفته\n",
    "\n",
    "1. برنامه‌ای بنویسید که بزرگ‌ترین و کوچک‌ترین عدد موجود در یک لیست را پیدا کند.  \n",
    "2. برنامه‌ای بنویسید که لیستی از اعداد گرفته و فقط اعداد زوج را در یک لیست جدید ذخیره کند.  \n",
    "3. برنامه‌ای بنویسید که دو لیست را با هم ترکیب کند.  \n",
    "4. برنامه‌ای بنویسید که لیستی از رشته‌ها را گرفته و طول هر رشته را در لیستی جدید ذخیره کند.  \n",
    "\n",
    "</div>\n"
   ]
  },
  {
   "cell_type": "code",
   "execution_count": 19,
   "id": "bd552250",
   "metadata": {},
   "outputs": [
    {
     "name": "stdout",
     "output_type": "stream",
     "text": [
      "بزرگ‌ترین عدد: 21\n",
      "کوچک‌ترین عدد: 3\n"
     ]
    }
   ],
   "source": [
    "# =========================\n",
    "# تمرین 1: پیدا کردن بزرگ‌ترین و کوچک‌ترین عدد\n",
    "# =========================\n",
    "numbers = [12, 5, 8, 21, 3, 17]\n",
    "max_num = numbers[0]\n",
    "min_num = numbers[0]\n",
    "\n",
    "for num in numbers:\n",
    "    if num > max_num:\n",
    "        max_num = num\n",
    "    if num < min_num:\n",
    "        min_num = num\n",
    "\n",
    "print(\"بزرگ‌ترین عدد:\", max_num)\n",
    "print(\"کوچک‌ترین عدد:\", min_num)\n",
    "\n"
   ]
  },
  {
   "cell_type": "code",
   "execution_count": 20,
   "id": "e8bba3ca",
   "metadata": {},
   "outputs": [
    {
     "name": "stdout",
     "output_type": "stream",
     "text": [
      "اعداد زوج: [10, 22, 40]\n"
     ]
    }
   ],
   "source": [
    "# =========================\n",
    "# تمرین 2: ذخیره اعداد زوج در لیست جدید\n",
    "# =========================\n",
    "numbers = [10, 15, 22, 33, 40, 55]\n",
    "even_numbers = []\n",
    "\n",
    "for num in numbers:\n",
    "    if num % 2 == 0:\n",
    "        even_numbers.append(num)\n",
    "\n",
    "print(\"اعداد زوج:\", even_numbers)\n"
   ]
  },
  {
   "cell_type": "code",
   "execution_count": 21,
   "id": "df804a36",
   "metadata": {},
   "outputs": [
    {
     "name": "stdout",
     "output_type": "stream",
     "text": [
      "لیست ترکیبی: [1, 2, 3, 4, 5, 6]\n"
     ]
    }
   ],
   "source": [
    "# =========================\n",
    "# تمرین 3: ترکیب دو لیست\n",
    "# =========================\n",
    "list1 = [1, 2, 3]\n",
    "list2 = [4, 5, 6]\n",
    "combined_list = list1 + list2   # یا با extend\n",
    "print(\"لیست ترکیبی:\", combined_list)\n"
   ]
  },
  {
   "cell_type": "code",
   "execution_count": 22,
   "id": "01cf68cc",
   "metadata": {},
   "outputs": [
    {
     "name": "stdout",
     "output_type": "stream",
     "text": [
      "طول هر رشته: [4, 4, 2, 6]\n"
     ]
    }
   ],
   "source": [
    "# =========================\n",
    "# تمرین 4: طول هر رشته در لیست جدید\n",
    "# =========================\n",
    "words = [\"سلام\", \"دوست\", \"من\", \"چطوری؟\"]\n",
    "lengths = []\n",
    "\n",
    "for word in words:\n",
    "    lengths.append(len(word))\n",
    "\n",
    "print(\"طول هر رشته:\", lengths)"
   ]
  }
 ],
 "metadata": {
  "kernelspec": {
   "display_name": "env",
   "language": "python",
   "name": "python3"
  },
  "language_info": {
   "codemirror_mode": {
    "name": "ipython",
    "version": 3
   },
   "file_extension": ".py",
   "mimetype": "text/x-python",
   "name": "python",
   "nbconvert_exporter": "python",
   "pygments_lexer": "ipython3",
   "version": "3.12.3"
  }
 },
 "nbformat": 4,
 "nbformat_minor": 5
}

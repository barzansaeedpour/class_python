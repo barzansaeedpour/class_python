{
 "cells": [
  {
   "cell_type": "markdown",
   "id": "288dd3b6",
   "metadata": {},
   "source": [
    "<div dir=\"rtl\">\n",
    "\n",
    "# تمرین‌ها\n",
    "\n",
    "۱. با استفاده از حلقه `for` اعداد ۱ تا ۲۰ را چاپ کنید.  \n",
    "۲. مجموع اعداد ۱ تا ۱۰۰ را با استفاده از حلقه `for` حساب کنید.  \n",
    "۳. برنامه‌ای بنویسید که از کاربر یک عدد بگیرد و جدول ضرب آن را چاپ کند.  \n",
    "۴. یک رشته بگیرید و تعداد حروف صدادار (a, e, i, o, u) آن را بشمارید.  \n",
    "\n",
    "</div>"
   ]
  },
  {
   "cell_type": "code",
   "execution_count": 1,
   "id": "16a71178",
   "metadata": {},
   "outputs": [
    {
     "name": "stdout",
     "output_type": "stream",
     "text": [
      "1\n",
      "2\n",
      "3\n",
      "4\n",
      "5\n",
      "6\n",
      "7\n",
      "8\n",
      "9\n",
      "10\n",
      "11\n",
      "12\n",
      "13\n",
      "14\n",
      "15\n",
      "16\n",
      "17\n",
      "18\n",
      "19\n",
      "20\n"
     ]
    }
   ],
   "source": [
    "# تمرین ۱: چاپ اعداد 1 تا 20 با حلقه for\n",
    "for i in range(1, 21):\n",
    "    print(i)\n"
   ]
  },
  {
   "cell_type": "code",
   "execution_count": 2,
   "id": "3f71f64b",
   "metadata": {},
   "outputs": [
    {
     "name": "stdout",
     "output_type": "stream",
     "text": [
      "مجموع اعداد 1 تا 100 = 5050\n"
     ]
    }
   ],
   "source": [
    "# تمرین ۲: مجموع اعداد 1 تا 100 با حلقه for\n",
    "total = 0\n",
    "for i in range(1, 101):\n",
    "    total += i\n",
    "print(\"مجموع اعداد 1 تا 100 =\", total)\n"
   ]
  },
  {
   "cell_type": "code",
   "execution_count": 3,
   "id": "f79c993a",
   "metadata": {},
   "outputs": [
    {
     "name": "stdout",
     "output_type": "stream",
     "text": [
      "5 × 1 = 5\n",
      "5 × 2 = 10\n",
      "5 × 3 = 15\n",
      "5 × 4 = 20\n",
      "5 × 5 = 25\n",
      "5 × 6 = 30\n",
      "5 × 7 = 35\n",
      "5 × 8 = 40\n",
      "5 × 9 = 45\n",
      "5 × 10 = 50\n"
     ]
    }
   ],
   "source": [
    "# تمرین ۳: جدول ضرب یک عدد\n",
    "num = int(input(\"یک عدد وارد کنید: \"))\n",
    "for i in range(1, 11):\n",
    "    print(f\"{num} × {i} = {num * i}\")\n"
   ]
  },
  {
   "cell_type": "code",
   "execution_count": 5,
   "id": "b44a98f0",
   "metadata": {},
   "outputs": [
    {
     "name": "stdout",
     "output_type": "stream",
     "text": [
      "متن شما: Python is the best\n",
      "تعداد حروف صدادار = 4\n"
     ]
    }
   ],
   "source": [
    "# تمرین ۴: شمارش حروف صدادار\n",
    "text = input(\"یک رشته وارد کنید: \")\n",
    "vowels = \"aeiou\"\n",
    "count = 0\n",
    "for ch in text.lower():\n",
    "    if ch in vowels:\n",
    "        count += 1\n",
    "print(\"متن شما:\", text)\n",
    "print(\"تعداد حروف صدادار =\", count)\n"
   ]
  },
  {
   "cell_type": "markdown",
   "id": "41c900b2",
   "metadata": {},
   "source": [
    "<div dir=\"rtl\">\n",
    "\n",
    "## تمرین‌های ترکیبی (حلقه + شرط)\n",
    "\n",
    "۱. تمام اعداد بین ۱ تا ۵۰ را چاپ کنید که بر ۳ بخش‌پذیر باشند.  \n",
    "۲. برنامه‌ای بنویسید که اعداد اول بین ۱ تا ۱۰۰ را چاپ کند.  \n",
    "۳. برنامه‌ای بنویسید که بزرگترین عدد وارد شده توسط کاربر (۱۰ عدد ورودی) را پیدا کند.  \n",
    "۴. برنامه‌ای بنویسید که مثلثی از ستاره‌ها با ارتفاع دلخواه کاربر چاپ کند.\n",
    "\n",
    "</div>"
   ]
  },
  {
   "cell_type": "code",
   "execution_count": 7,
   "id": "0a6c22ae",
   "metadata": {},
   "outputs": [
    {
     "name": "stdout",
     "output_type": "stream",
     "text": [
      "3\n",
      "6\n",
      "9\n",
      "12\n",
      "15\n",
      "18\n",
      "21\n",
      "24\n",
      "27\n",
      "30\n",
      "33\n",
      "36\n",
      "39\n",
      "42\n",
      "45\n",
      "48\n"
     ]
    }
   ],
   "source": [
    "# تمرین ۱: اعداد بخش‌پذیر بر ۳ بین ۱ تا ۵۰\n",
    "for i in range(1, 51):\n",
    "    if i % 3 == 0:\n",
    "        print(i)\n"
   ]
  },
  {
   "cell_type": "code",
   "execution_count": 8,
   "id": "6e6d7770",
   "metadata": {},
   "outputs": [
    {
     "name": "stdout",
     "output_type": "stream",
     "text": [
      "2\n",
      "3\n",
      "5\n",
      "7\n",
      "11\n",
      "13\n",
      "17\n",
      "19\n",
      "23\n",
      "29\n",
      "31\n",
      "37\n",
      "41\n",
      "43\n",
      "47\n",
      "53\n",
      "59\n",
      "61\n",
      "67\n",
      "71\n",
      "73\n",
      "79\n",
      "83\n",
      "89\n",
      "97\n"
     ]
    }
   ],
   "source": [
    "# تمرین ۲: اعداد اول بین ۱ تا ۱۰۰\n",
    "for num in range(2, 101):   # از ۲ شروع چون ۱ اول نیست\n",
    "    is_prime = True\n",
    "    for i in range(2, int(num**0.5) + 1):\n",
    "        if num % i == 0:\n",
    "            is_prime = False\n",
    "            break\n",
    "    if is_prime:\n",
    "        print(num)\n"
   ]
  },
  {
   "cell_type": "code",
   "execution_count": 9,
   "id": "a329e8fe",
   "metadata": {},
   "outputs": [
    {
     "name": "stdout",
     "output_type": "stream",
     "text": [
      "بزرگترین عدد وارد شده = 325.0\n"
     ]
    }
   ],
   "source": [
    "# تمرین ۳: پیدا کردن بزرگترین عدد از بین ۱۰ ورودی کاربر\n",
    "max_num = None\n",
    "for i in range(10):\n",
    "    n = float(input(f\"عدد {i+1} را وارد کنید: \"))\n",
    "    if max_num is None or n > max_num:\n",
    "        max_num = n\n",
    "print(\"بزرگترین عدد وارد شده =\", max_num)\n"
   ]
  },
  {
   "cell_type": "code",
   "execution_count": 10,
   "id": "7300743a",
   "metadata": {},
   "outputs": [
    {
     "name": "stdout",
     "output_type": "stream",
     "text": [
      "*\n",
      "**\n",
      "***\n",
      "****\n",
      "*****\n",
      "******\n",
      "*******\n",
      "********\n",
      "*********\n",
      "**********\n",
      "***********\n"
     ]
    }
   ],
   "source": [
    "# تمرین ۴: چاپ مثلث ستاره‌ای با ارتفاع دلخواه\n",
    "h = int(input(\"ارتفاع مثلث را وارد کنید: \"))\n",
    "for i in range(1, h + 1):\n",
    "    print(\"*\" * i)\n"
   ]
  }
 ],
 "metadata": {
  "kernelspec": {
   "display_name": "env",
   "language": "python",
   "name": "python3"
  },
  "language_info": {
   "codemirror_mode": {
    "name": "ipython",
    "version": 3
   },
   "file_extension": ".py",
   "mimetype": "text/x-python",
   "name": "python",
   "nbconvert_exporter": "python",
   "pygments_lexer": "ipython3",
   "version": "3.12.3"
  }
 },
 "nbformat": 4,
 "nbformat_minor": 5
}

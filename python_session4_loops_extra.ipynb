{
 "cells": [
  {
   "cell_type": "markdown",
   "id": "f3fdf342",
   "metadata": {},
   "source": [
    "\n",
    "<div dir=\"rtl\">\n",
    "\n",
    "# جلسه چهارم: حلقه‌ها در پایتون (نسخهٔ کامل و جامع)\n",
    "\n",
    "در این جلسه به‌صورت **گام‌به‌گام و کامل** با حلقه‌ها در پایتون آشنا می‌شویم.  \n",
    "حلقه‌ها زمانی استفاده می‌شوند که بخواهیم یک قطعه کد را **چندین بار** اجرا کنیم یا روی یک **دنباله** (لیست، رشته، تاپل، دیکشنری و …) پیمایش داشته باشیم.\n",
    "\n",
    "## اهداف یادگیری\n",
    "- درک تفاوت حلقه‌های `for` و `while`\n",
    "- آشنایی با `range`، `enumerate`، `zip` و پیمایش دیکشنری‌ها\n",
    "- تسلط بر دستورات کنترل جریان: `break`، `continue` و `pass` + بخش `else` در حلقه‌ها\n",
    "- کار با **حلقه‌های تو در تو** (Nested Loops) و الگوهای رایج\n",
    "- نکات مهم کارایی و خوانایی\n",
    "- تمرین‌های متنوع (از آسان تا پیشرفته) + تمرین‌های ترکیبی (حلقه + شرط)\n",
    "\n",
    "> پیشنهاد: هر مثال را اجرا کنید و خروجی را ببینید، سپس آن را تغییر بدهید و دوباره اجرا کنید تا رفتار حلقه‌ها را بهتر درک کنید.\n",
    "\n",
    "</div>\n"
   ]
  },
  {
   "cell_type": "markdown",
   "id": "89f55903",
   "metadata": {},
   "source": [
    "\n",
    "<div dir=\"rtl\">\n",
    "\n",
    "## حلقه چیست؟\n",
    "\n",
    "- **حلقه** قطعه کدی است که چندبار تکرار می‌شود.  \n",
    "- در پایتون عمدتاً دو نوع حلقه داریم:\n",
    "  - `for`: برای **پیمایش** روی یک دنباله یا هر شیء قابل تکرار (iterable)\n",
    "  - `while`: تا زمانی که یک **شرط** برقرار باشد، اجرا می‌شود\n",
    "\n",
    "</div>\n"
   ]
  },
  {
   "cell_type": "markdown",
   "id": "6214fe2a",
   "metadata": {},
   "source": [
    "\n",
    "<div dir=\"rtl\">\n",
    "\n",
    "## حلقه `for`\n",
    "\n",
    "حلقهٔ `for` برای پیمایش روی آیتم‌های یک دنباله استفاده می‌شود. شکل کلی:\n",
    "\n",
    "```python\n",
    "for item in iterable:\n",
    "    # بدنهٔ حلقه\n",
    "```\n",
    "\n",
    "### مثال‌های پایه\n",
    "</div>\n"
   ]
  },
  {
   "cell_type": "code",
   "execution_count": null,
   "id": "02b5ccb7",
   "metadata": {},
   "outputs": [],
   "source": [
    "\n",
    "# پیمایش روی یک لیست\n",
    "fruits = [\"apple\", \"banana\", \"cherry\"]\n",
    "for f in fruits:\n",
    "    print(f)\n"
   ]
  },
  {
   "cell_type": "code",
   "execution_count": null,
   "id": "c2e2245a",
   "metadata": {},
   "outputs": [],
   "source": [
    "\n",
    "# پیمایش روی رشته (هر کاراکتر یک آیتم است)\n",
    "s = \"python\"\n",
    "for ch in s:\n",
    "    print(ch, end=\" \")\n"
   ]
  },
  {
   "cell_type": "markdown",
   "id": "c6f1e399",
   "metadata": {},
   "source": [
    "\n",
    "<div dir=\"rtl\">\n",
    "\n",
    "## تابع `range`\n",
    "\n",
    "تابع `range` دنباله‌ای از اعداد تولید می‌کند (تنها هنگام پیمایش؛ حافظه‌پسند):\n",
    "- `range(n)` → از 0 تا `n-1`\n",
    "- `range(start, stop)` → از `start` تا `stop-1`\n",
    "- `range(start, stop, step)` → با گام `step` (می‌تواند منفی باشد)\n",
    "\n",
    "> نکته: معمولاً نیازی نیست `range` را به لیست تبدیل کنید. فقط زمانی تبدیل کنید که واقعاً به **لیست** نیاز دارید.\n",
    "\n",
    "</div>\n"
   ]
  },
  {
   "cell_type": "code",
   "execution_count": null,
   "id": "f47bb4c1",
   "metadata": {},
   "outputs": [],
   "source": [
    "\n",
    "# مثال‌های range\n",
    "print(list(range(5)))          # 0..4\n",
    "print(list(range(2, 7)))       # 2..6\n",
    "print(list(range(10, 0, -2)))  # 10, 8, 6, 4, 2\n"
   ]
  },
  {
   "cell_type": "markdown",
   "id": "38f96f85",
   "metadata": {},
   "source": [
    "\n",
    "<div dir=\"rtl\">\n",
    "\n",
    "## ابزارهای کاربردی در حلقه‌ها\n",
    "\n",
    "### `enumerate`  \n",
    "وقتی به **اندیس** و **مقدار** همزمان نیاز دارید:\n",
    "\n",
    "</div>\n"
   ]
  },
  {
   "cell_type": "code",
   "execution_count": null,
   "id": "80fda77c",
   "metadata": {},
   "outputs": [],
   "source": [
    "\n",
    "names = [\"Ali\", \"Sara\", \"Mehdi\"]\n",
    "for idx, name in enumerate(names, start=1):\n",
    "    print(idx, name)\n"
   ]
  },
  {
   "cell_type": "markdown",
   "id": "ea0d8100",
   "metadata": {},
   "source": [
    "\n",
    "<div dir=\"rtl\">\n",
    "\n",
    "### `zip`  \n",
    "برای پیمایش همزمان روی چند دنباله با طول‌های مشابه:\n",
    "\n",
    "</div>\n"
   ]
  },
  {
   "cell_type": "code",
   "execution_count": null,
   "id": "271fa551",
   "metadata": {},
   "outputs": [],
   "source": [
    "\n",
    "first_names = [\"Ali\", \"Sara\", \"Mehdi\"]\n",
    "scores = [18, 20, 17]\n",
    "for fn, sc in zip(first_names, scores):\n",
    "    print(f\"{fn}: {sc}\")\n"
   ]
  },
  {
   "cell_type": "markdown",
   "id": "478702bd",
   "metadata": {},
   "source": [
    "\n",
    "<div dir=\"rtl\">\n",
    "\n",
    "### پیمایش روی دیکشنری\n",
    "- روی **کلیدها**: پیش‌فرض یا با `dict.keys()`\n",
    "- روی **مقادیر**: `dict.values()`\n",
    "- روی **جفت‌های کلید/مقدار**: `dict.items()`\n",
    "\n",
    "</div>\n"
   ]
  },
  {
   "cell_type": "code",
   "execution_count": null,
   "id": "19202890",
   "metadata": {},
   "outputs": [],
   "source": [
    "\n",
    "person = {\"name\": \"Sara\", \"age\": 23, \"city\": \"Tehran\"}\n",
    "\n",
    "print(\"Keys:\")\n",
    "for k in person:\n",
    "    print(k)\n",
    "\n",
    "print(\"\\nValues:\")\n",
    "for v in person.values():\n",
    "    print(v)\n",
    "\n",
    "print(\"\\nItems:\")\n",
    "for k, v in person.items():\n",
    "    print(k, \"=>\", v)\n"
   ]
  },
  {
   "cell_type": "markdown",
   "id": "4f13d473",
   "metadata": {},
   "source": [
    "\n",
    "<div dir=\"rtl\">\n",
    "\n",
    "## حلقه `while`\n",
    "\n",
    "وقتی تا **زمان برقرار بودن یک شرط** نیاز به تکرار داریم از `while` استفاده می‌کنیم.  \n",
    "\n",
    "> مراقب باشید شرط را جایی در بدنه به‌روز کنید تا حلقه بی‌نهایت نشود.\n",
    "\n",
    "</div>\n"
   ]
  },
  {
   "cell_type": "code",
   "execution_count": null,
   "id": "a157d229",
   "metadata": {},
   "outputs": [],
   "source": [
    "\n",
    "x = 0\n",
    "while x < 5:\n",
    "    print(\"x =\", x)\n",
    "    x += 1  # اگر این خط حذف شود، حلقه بی‌نهایت می‌شود\n"
   ]
  },
  {
   "cell_type": "markdown",
   "id": "c14f5772",
   "metadata": {},
   "source": [
    "\n",
    "<div dir=\"rtl\">\n",
    "\n",
    "## `break`، `continue` و `pass` + بخش `else` در حلقه‌ها\n",
    "\n",
    "- `break`: خروج فوری از حلقه\n",
    "- `continue`: پرش به **تکرار بعدی**\n",
    "- `pass`: انجام هیچ‌کاری (برای جای‌خالی/اسکلت کد)\n",
    "- `else` در حلقه‌ها: وقتی حلقه **بدون `break`** تمام شود، بخش `else` اجرا می‌شود.\n",
    "\n",
    "### مثال‌ها\n",
    "</div>\n"
   ]
  },
  {
   "cell_type": "code",
   "execution_count": null,
   "id": "44fe12bd",
   "metadata": {},
   "outputs": [],
   "source": [
    "\n",
    "# break: یافتن اولین عددی که بر 7 بخش‌پذیر است\n",
    "for i in range(1, 50):\n",
    "    if i % 7 == 0:\n",
    "        print(\"Found:\", i)\n",
    "        break\n"
   ]
  },
  {
   "cell_type": "code",
   "execution_count": null,
   "id": "e82fd797",
   "metadata": {},
   "outputs": [],
   "source": [
    "\n",
    "# continue: چاپ فقط اعداد فرد\n",
    "for i in range(10):\n",
    "    if i % 2 == 0:\n",
    "        continue\n",
    "    print(i)\n"
   ]
  },
  {
   "cell_type": "code",
   "execution_count": null,
   "id": "d8348d3f",
   "metadata": {},
   "outputs": [],
   "source": [
    "\n",
    "# else در حلقه: بررسی اول بودن عدد\n",
    "n = 29\n",
    "is_prime = True\n",
    "for d in range(2, int(n**0.5) + 1):\n",
    "    if n % d == 0:\n",
    "        is_prime = False\n",
    "        break\n",
    "else:\n",
    "    # فقط اگر break نخوردیم به اینجا می‌رسیم\n",
    "    pass\n",
    "\n",
    "print(n, \"prime?\" , is_prime)\n"
   ]
  },
  {
   "cell_type": "markdown",
   "id": "a711f5ea",
   "metadata": {},
   "source": [
    "\n",
    "<div dir=\"rtl\">\n",
    "\n",
    "## حلقه‌های **تو در تو** (Nested Loops)\n",
    "\n",
    "گاهی لازم است درون یک حلقه، حلقهٔ دیگری داشته باشیم؛ مانند کار با **ماتریس‌ها**، چاپ **الگوها** یا مقایسهٔ **تمام زوج‌های عناصر**.  \n",
    "الگوی کلی:\n",
    "\n",
    "```python\n",
    "for i in outer_iterable:\n",
    "    for j in inner_iterable:\n",
    "        # کار با i و j\n",
    "```\n",
    "\n",
    "### نکات مهم\n",
    "- پیچیدگی زمانی معمولاً ضرب می‌شود (مثلاً `O(n*m)` یا `O(n^2)`)، پس از نظر کارایی مراقب باشید.\n",
    "- از **شکستن زودهنگام** (early break) استفاده کنید تا بیهوده ادامه ندهید.\n",
    "- پایتون **break برچسب‌دار** ندارد؛ برای خروج از چند سطح حلقه می‌توانید:\n",
    "  - منطق را در **تابع** قرار دهید و با `return` خارج شوید.\n",
    "  - از **پرچم/فلگ** استفاده کنید.\n",
    "  - یا از **استثنا** (با احتیاط) برای کنترل جریان استفاده کنید.\n",
    "\n",
    "</div>\n"
   ]
  },
  {
   "cell_type": "markdown",
   "id": "88def0fc",
   "metadata": {},
   "source": [
    "\n",
    "<div dir=\"rtl\">\n",
    "\n",
    "### مثال ۱: جدول ضرب فرمت‌شده (۱۰×۱۰)\n",
    "\n",
    "</div>\n"
   ]
  },
  {
   "cell_type": "code",
   "execution_count": null,
   "id": "97f6f343",
   "metadata": {},
   "outputs": [],
   "source": [
    "\n",
    "# جدول ضرب 1 تا 10 با قالب‌بندی ستونی\n",
    "width = 4\n",
    "# سطر عنوان\n",
    "print(\" \" * width, end=\"\")\n",
    "for j in range(1, 11):\n",
    "    print(f\"{j:>{width}}\", end=\"\")\n",
    "print()\n",
    "print(\"-\" * (width * 11))\n",
    "\n",
    "for i in range(1, 11):\n",
    "    print(f\"{i:>{width-1}}|\", end=\"\")\n",
    "    for j in range(1, 11):\n",
    "        print(f\"{i*j:>{width}}\", end=\"\")\n",
    "    print()\n"
   ]
  },
  {
   "cell_type": "markdown",
   "id": "1b83ac56",
   "metadata": {},
   "source": [
    "\n",
    "<div dir=\"rtl\">\n",
    "\n",
    "### مثال ۲: الگوهای ستاره‌ای\n",
    "\n",
    "</div>\n"
   ]
  },
  {
   "cell_type": "code",
   "execution_count": null,
   "id": "613b5cb5",
   "metadata": {},
   "outputs": [],
   "source": [
    "\n",
    "# مثلث راست‌گرا\n",
    "h = 5\n",
    "for i in range(1, h+1):\n",
    "    print(\"*\" * i)\n",
    "\n",
    "# هرم (Center Pyramid)\n",
    "h = 5\n",
    "for i in range(1, h+1):\n",
    "    spaces = \" \" * (h - i)\n",
    "    stars  = \"*\" * (2*i - 1)\n",
    "    print(spaces + stars + spaces)\n"
   ]
  },
  {
   "cell_type": "code",
   "execution_count": null,
   "id": "702cfc02",
   "metadata": {},
   "outputs": [],
   "source": [
    "\n",
    "# مستطیل توخالی\n",
    "rows, cols = 5, 10\n",
    "for r in range(rows):\n",
    "    for c in range(cols):\n",
    "        if r in (0, rows-1) or c in (0, cols-1):\n",
    "            print(\"*\", end=\"\")\n",
    "        else:\n",
    "            print(\" \", end=\"\")\n",
    "    print()\n"
   ]
  },
  {
   "cell_type": "markdown",
   "id": "914e7bc7",
   "metadata": {},
   "source": [
    "\n",
    "<div dir=\"rtl\">\n",
    "\n",
    "### مثال ۳: کار با ماتریس (لیستِ لیست‌ها)\n",
    "\n",
    "</div>\n"
   ]
  },
  {
   "cell_type": "code",
   "execution_count": null,
   "id": "a58bf956",
   "metadata": {},
   "outputs": [],
   "source": [
    "\n",
    "matrix = [\n",
    "    [1, 2, 3],\n",
    "    [4, 5, 6],\n",
    "    [7, 8, 9],\n",
    "]\n",
    "\n",
    "# جمع عناصر\n",
    "total = 0\n",
    "for row in matrix:\n",
    "    for val in row:\n",
    "        total += val\n",
    "print(\"Sum =\", total)\n",
    "\n",
    "# ترانهاده (Transpose)\n",
    "transpose = []\n",
    "for j in range(len(matrix[0])):\n",
    "    col = []\n",
    "    for i in range(len(matrix)):\n",
    "        col.append(matrix[i][j])\n",
    "    transpose.append(col)\n",
    "\n",
    "print(\"Transpose =\", transpose)\n"
   ]
  },
  {
   "cell_type": "markdown",
   "id": "210b3141",
   "metadata": {},
   "source": [
    "\n",
    "<div dir=\"rtl\">\n",
    "\n",
    "### مثال ۴: یافتن تمام زوج‌اعداد با مجموعِ هدف (Nested) + بهینه‌سازی\n",
    "\n",
    "</div>\n"
   ]
  },
  {
   "cell_type": "code",
   "execution_count": null,
   "id": "20fc91f7",
   "metadata": {},
   "outputs": [],
   "source": [
    "\n",
    "nums = [2, 7, 11, 15, -2, 9]\n",
    "target = 9\n",
    "\n",
    "pairs = []\n",
    "for i in range(len(nums)):\n",
    "    for j in range(i+1, len(nums)):  # جلوگیری از تکرار زوج‌های معکوس\n",
    "        if nums[i] + nums[j] == target:\n",
    "            pairs.append((nums[i], nums[j]))\n",
    "\n",
    "print(\"All pairs (nested):\", pairs)\n",
    "\n",
    "# راه بهینه‌تر با دیکشنری/مجموعه (O(n))\n",
    "seen = set()\n",
    "pairs_fast = []\n",
    "for x in nums:\n",
    "    need = target - x\n",
    "    if need in seen:\n",
    "        pairs_fast.append((need, x))\n",
    "    seen.add(x)\n",
    "\n",
    "print(\"All pairs (set-based):\", pairs_fast)\n"
   ]
  },
  {
   "cell_type": "markdown",
   "id": "5e555766",
   "metadata": {},
   "source": [
    "\n",
    "<div dir=\"rtl\">\n",
    "\n",
    "## فهرست‌سازی فشرده (List Comprehension) با حلقه‌های تو در تو\n",
    "\n",
    "گاهی می‌توانید حلقه‌های تو در تو را در یک عبارت فشرده کنید؛ ولی **خوانایی** را فدا نکنید.\n",
    "\n",
    "</div>\n"
   ]
  },
  {
   "cell_type": "code",
   "execution_count": null,
   "id": "a064c932",
   "metadata": {},
   "outputs": [],
   "source": [
    "\n",
    "# تخت‌کردن (Flatten) لیستِ لیست‌ها\n",
    "nested = [[1,2,3],[4,5],[6]]\n",
    "flat = [x for row in nested for x in row]\n",
    "print(flat)\n",
    "\n",
    "# تولید زوج‌های مرتب (i, j) با شرط\n",
    "pairs = [(i, j) for i in range(3) for j in range(3) if i != j]\n",
    "print(pairs)\n"
   ]
  },
  {
   "cell_type": "markdown",
   "id": "b2f47b37",
   "metadata": {},
   "source": [
    "\n",
    "<div dir=\"rtl\">\n",
    "\n",
    "## نکات کارایی و خوانایی\n",
    "\n",
    "- اگر امکان دارد به جای `O(n^2)` از ساختارهای دادهٔ مناسب (مثل **مجموعه** و **دیکشنری**) استفاده کنید.\n",
    "- برای خروج زودهنگام از حلقه‌ها (وقتی پاسخ پیدا شد) از `break` یا **return** در تابع کمک بگیرید.\n",
    "- نام‌گذاری متغیرها (مثل `row`, `col`, `i`, `j`) را معنادار انتخاب کنید.\n",
    "- از `enumerate` به‌جای شمارندهٔ دستی استفاده کنید.\n",
    "- بخش `else` در حلقه را بشناسید؛ خوانایی را بالا می‌برد (مثال بررسی اول بودن).\n",
    "\n",
    "</div>\n"
   ]
  },
  {
   "cell_type": "markdown",
   "id": "fdac7db2",
   "metadata": {},
   "source": [
    "\n",
    "<div dir=\"rtl\">\n",
    "\n",
    "# تمرین‌ها\n",
    "\n",
    "## بخش A — پایه\n",
    "1. با استفاده از حلقهٔ `for` اعداد **۱ تا ۲۰** را چاپ کنید.  \n",
    "2. مجموع اعداد **۱ تا ۱۰۰** را با `for` محاسبه کنید.  \n",
    "3. از کاربر یک عدد بگیرید و **جدول ضرب** آن را تا ۱۰ چاپ کنید.  \n",
    "4. یک رشته بگیرید و تعداد **حروف صدادار** انگلیسی آن (`a, e, i, o, u`) را بشمارید.  \n",
    "5. تعداد **کاراکترهای رقمی** موجود در یک رشته را بشمارید.\n",
    "\n",
    "## بخش B — حلقه + شرط\n",
    "1. تمام اعداد بین **۱ تا ۵۰** که بر **۳ بخش‌پذیرند** را چاپ کنید.  \n",
    "2. اعداد **اول** بین ۱ تا ۱۰۰ را چاپ کنید (از `break` یا `else` استفاده کنید).  \n",
    "3. از کاربر **۱۰ عدد** بگیرید و **بزرگ‌ترین** آن‌ها را بیابید.  \n",
    "4. مثلثی از ستاره‌ها با ارتفاع ورودی کاربر چاپ کنید (راست‌گرا یا هرم).  \n",
    "5. مسألهٔ **FizzBuzz**: برای ۱ تا ۱۰۰، اگر بر ۳ بخش‌پذیر بود چاپ `Fizz`، اگر بر ۵ بخش‌پذیر بود چاپ `Buzz`، اگر بر هر دو بخش‌پذیر بود `FizzBuzz`، در غیر اینصورت خود عدد را چاپ کنید.\n",
    "\n",
    "## بخش C — حلقه‌های تو در تو\n",
    "1. **جدول ضرب** ۱۲×۱۲ را به‌صورت مرتب چاپ کنید.  \n",
    "2. الگویی از ستاره‌ها به شکل **لوزی** چاپ کنید.  \n",
    "3. یک ماتریس ۳×۳ از ورودی بگیرید و **ترانهاده**‌ی آن را تولید کنید.  \n",
    "4. لیست دوبعدی‌ای از اعداد داده‌شده را **تخت** کنید (بدون استفاده از کتابخانه).  \n",
    "5. تمام **زوج‌های یکتا** از آرایه‌ای داده‌شده که مجموعشان برابر مقدار هدف است را چاپ کنید (از تکرار (a,b)/(b,a) جلوگیری کنید).\n",
    "\n",
    "## بخش D — پیشرفته (ترکیب حلقه + شرط)\n",
    "1. تولید **مثلث پاسکال** با ارتفاع دلخواه کاربر.  \n",
    "2. یافتن **اعداد آرمسترانگ** بین ۱ تا ۱۰۰۰.  \n",
    "3. یافتن **اعداد کامل** (Perfect Numbers) در یک بازه.  \n",
    "4. چاپ **مارپیچ** (Spiral) در یک ماتریس n×n با اعداد ۱..n².  \n",
    "5. **ترانهادهٔ درجا** (بدون ماتریس جدید) برای ماتریس مربعی.\n",
    "\n",
    "> پیشنهاد: برای هر تمرین، نمونهٔ ورودی/خروجی کوچک طراحی کنید و سپس کدتان را تست کنید.\n",
    "\n",
    "</div>\n"
   ]
  },
  {
   "cell_type": "markdown",
   "id": "da30c380",
   "metadata": {},
   "source": [
    "\n",
    "<div dir=\"rtl\">\n",
    "\n",
    "## مثال تکمیلی: جست‌وجوی عدد در ماتریس (Break از چند سطح با تابع)\n",
    "\n",
    "</div>\n"
   ]
  },
  {
   "cell_type": "code",
   "execution_count": null,
   "id": "73ceb1d5",
   "metadata": {},
   "outputs": [],
   "source": [
    "\n",
    "def find_number(matrix, target):\n",
    "    for i, row in enumerate(matrix):\n",
    "        for j, val in enumerate(row):\n",
    "            if val == target:\n",
    "                return i, j  # خروج فوری از هر دو حلقه\n",
    "    return None\n",
    "\n",
    "m = [\n",
    "    [10, 11, 12],\n",
    "    [20, 21, 22],\n",
    "    [30, 31, 32],\n",
    "]\n",
    "\n",
    "print(find_number(m, 22))  # (1, 2)\n",
    "print(find_number(m, 99))  # None\n"
   ]
  },
  {
   "cell_type": "markdown",
   "id": "37882833",
   "metadata": {},
   "source": [
    "\n",
    "<div dir=\"rtl\">\n",
    "\n",
    "## جمع‌بندی\n",
    "- `for` برای پیمایش روی دنباله‌ها و `while` برای تکرار وابسته به شرط است.\n",
    "- `range`، `enumerate` و `zip` ابزارهای کلیدی برای حلقه‌های تمیز و قابل‌خواندن هستند.\n",
    "- `break` و `continue` کنترل دقیق جریان را در اختیار ما می‌گذارند؛ `else` در حلقه‌ها را فراموش نکنید.\n",
    "- حلقه‌های تو در تو قدرتمندند اما از نظر کارایی هزینه دارند؛ تا می‌توانید از ساختارهای دادهٔ مناسب استفاده کنید.\n",
    "\n",
    "موفق باشید! ✨\n",
    "\n",
    "</div>\n"
   ]
  }
 ],
 "metadata": {},
 "nbformat": 4,
 "nbformat_minor": 5
}

{
 "cells": [
  {
   "cell_type": "markdown",
   "id": "419aec96",
   "metadata": {},
   "source": [
    "<div dir=\"rtl\">\n",
    "\n",
    "## پاسخ تمرینات جلسه 3 (شرط)\n",
    "\n",
    "۱. برنامه‌ای بنویسید که یک عدد از کاربر بگیرد و بررسی کند زوج است یا فرد.\n",
    "\n",
    "۲. برنامه‌ای بنویسید که سن کاربر را بگیرد و مشخص کند آیا به سن رای‌دادن رسیده است یا نه (۱۸ سال).\n",
    "\n",
    "۳. برنامه‌ای بنویسید که یک عدد تصادفی بین ۱ تا ۱۰ انتخاب کند و کاربر آن را حدس بزند. اگر درست حدس زد پیام موفقیت وگرنه پیام خطا نشان دهد.\n",
    "\n",
    "۴. برنامه‌ای بنویسید که نام کاربری و رمز عبور را از کاربر بگیرد و بررسی کند که درست هستند یا نه.\n",
    "\n",
    "---\n",
    "\n",
    "</div>"
   ]
  },
  {
   "cell_type": "code",
   "execution_count": 1,
   "id": "3454380f",
   "metadata": {},
   "outputs": [
    {
     "name": "stdout",
     "output_type": "stream",
     "text": [
      "عدد زوج است.\n"
     ]
    }
   ],
   "source": [
    "# تمرین ۱: زوج یا فرد\n",
    "num = int(input(\"یک عدد وارد کنید: \"))\n",
    "if num % 2 == 0:\n",
    "    print(\"عدد زوج است.\")\n",
    "else:\n",
    "    print(\"عدد فرد است.\")\n"
   ]
  },
  {
   "cell_type": "code",
   "execution_count": 2,
   "id": "b4834129",
   "metadata": {},
   "outputs": [
    {
     "name": "stdout",
     "output_type": "stream",
     "text": [
      "شما به سن رای دادن رسیده‌اید.\n"
     ]
    }
   ],
   "source": [
    "# تمرین ۲: بررسی سن رای دادن\n",
    "age = int(input(\"سن خود را وارد کنید: \"))\n",
    "if age >= 18:\n",
    "    print(\"شما به سن رای دادن رسیده‌اید.\")\n",
    "else:\n",
    "    print(\"شما هنوز به سن رای دادن نرسیده‌اید.\")\n"
   ]
  },
  {
   "cell_type": "code",
   "execution_count": 3,
   "id": "15828e36",
   "metadata": {},
   "outputs": [
    {
     "name": "stdout",
     "output_type": "stream",
     "text": [
      "اشتباه شد! عدد درست 8 بود.\n"
     ]
    }
   ],
   "source": [
    "# تمرین ۳: حدس عدد تصادفی\n",
    "import random\n",
    "\n",
    "random_num = random.randint(1, 10)\n",
    "guess = int(input(\"یک عدد بین ۱ تا ۱۰ حدس بزنید: \"))\n",
    "\n",
    "if guess == random_num:\n",
    "    print(\"آفرین! درست حدس زدی 👏\")\n",
    "else:\n",
    "    print(f\"اشتباه شد! عدد درست {random_num} بود.\")\n"
   ]
  },
  {
   "cell_type": "code",
   "execution_count": 4,
   "id": "b769d93c",
   "metadata": {},
   "outputs": [
    {
     "name": "stdout",
     "output_type": "stream",
     "text": [
      "نام کاربری یا رمز عبور اشتباه است ❌\n"
     ]
    }
   ],
   "source": [
    "# تمرین ۴: نام کاربری و رمز عبور\n",
    "username = input(\"نام کاربری: \")\n",
    "password = input(\"رمز عبور: \")\n",
    "\n",
    "# فرض کنیم اطلاعات صحیح این‌ها باشند:\n",
    "correct_user = \"admin\"\n",
    "correct_pass = \"1234\"\n",
    "\n",
    "if username == correct_user and password == correct_pass:\n",
    "    print(\"ورود موفقیت‌آمیز ✅\")\n",
    "else:\n",
    "    print(\"نام کاربری یا رمز عبور اشتباه است ❌\")\n"
   ]
  },
  {
   "cell_type": "markdown",
   "id": "fc4faa20",
   "metadata": {},
   "source": [
    "<div dir=\"rtl\">\n",
    "\n",
    "## تمرین: تشخیص سرویس ایمیل (@gmail.com یا @yahoo.com)\n",
    "\n",
    "\n",
    "برنامه‌ای بنویسید که ایمیل کاربر را بگیرد و بررسی کند آیا به @yahoo.com یا @gmail.com ختم می‌شود یا خیر.\n",
    "\n",
    "</div>"
   ]
  },
  {
   "cell_type": "code",
   "execution_count": 5,
   "id": "d8f70f81",
   "metadata": {},
   "outputs": [
    {
     "name": "stdout",
     "output_type": "stream",
     "text": [
      "ایمیل شما متعلق به سرویس Gmail است.\n"
     ]
    }
   ],
   "source": [
    "# تمرین: تشخیص سرویس ایمیل\n",
    "\n",
    "email = input(\"ایمیل خود را وارد کنید: \")\n",
    "\n",
    "if email.endswith(\"@gmail.com\"):\n",
    "    print(\"ایمیل شما متعلق به سرویس Gmail است.\")\n",
    "elif email.endswith(\"@yahoo.com\"):\n",
    "    print(\"ایمیل شما متعلق به سرویس Yahoo است.\")\n",
    "else:\n",
    "    print(\"ایمیل شما متعلق به سرویس Gmail یا Yahoo نیست.\")\n"
   ]
  },
  {
   "cell_type": "markdown",
   "id": "a0d476ca",
   "metadata": {},
   "source": [
    "<div dir=\"rtl\">\n",
    "\n",
    "## تمرین: بررسی نام کاربری (User Validation)\n",
    "\n",
    "هدف: اطمینان از اینکه نام کاربری:\n",
    "\n",
    "طولش بین ۵ تا ۱۵ کاراکتر باشه.\n",
    "\n",
    "شامل حروف کوچک انگلیسی باشه.\n",
    "\n",
    "حداقل یک عدد داشته باشه.\n",
    "\n",
    "</div>"
   ]
  },
  {
   "cell_type": "code",
   "execution_count": 6,
   "id": "51e4956d",
   "metadata": {},
   "outputs": [
    {
     "name": "stdout",
     "output_type": "stream",
     "text": [
      "✅ نام کاربری معتبر است.\n"
     ]
    }
   ],
   "source": [
    "# تمرین: بررسی نام کاربری (User Validation)\n",
    "\n",
    "username = input(\"نام کاربری را وارد کنید: \")\n",
    "\n",
    "# شرط ۱: طول بین 5 تا 15 کاراکتر\n",
    "if not (5 <= len(username) <= 15):\n",
    "    print(\"❌ طول نام کاربری باید بین ۵ تا ۱۵ کاراکتر باشد.\")\n",
    "    \n",
    "# شرط ۲: شامل حداقل یک حرف کوچک انگلیسی\n",
    "elif not any(ch.islower() for ch in username):\n",
    "    print(\"❌ نام کاربری باید شامل حداقل یک حرف کوچک انگلیسی باشد.\")\n",
    "    \n",
    "# شرط ۳: شامل حداقل یک عدد\n",
    "elif not any(ch.isdigit() for ch in username):\n",
    "    print(\"❌ نام کاربری باید شامل حداقل یک عدد باشد.\")\n",
    "\n",
    "else:\n",
    "    print(\"✅ نام کاربری معتبر است.\")\n"
   ]
  },
  {
   "cell_type": "markdown",
   "id": "b636d0a5",
   "metadata": {},
   "source": [
    "<div dir=\"rtl\">\n",
    "\n",
    "\n",
    "## تمرین: تعیین وضعیت سلامت بر اساس علائم\n",
    "یک برنامه بنویس که علائم یک فرد را به صورت ورودی بگیرد:\n",
    "\n",
    "    - دما (عدد اعشاری)\n",
    "\n",
    "    - داشتن سرفه (بله/خیر)\n",
    "\n",
    "    - داشتن تنگی نفس (بله/خیر)\n",
    "\n",
    "بر اساس این داده‌ها، وضعیت سلامت فرد را طبق قوانین زیر تشخیص بده و چاپ کن:\n",
    "\n",
    "    - اگر دما بالای ۳۸ درجه و سرفه و تنگی نفس هر دو وجود داشت:\n",
    "        \"وضعیت: اورژانسی، سریعاً به پزشک مراجعه کنید.\"\n",
    "\n",
    "    - اگر دما بالای ۳۸ و فقط یکی از دو علامت (سرفه یا تنگی نفس) بود:\n",
    "        \"وضعیت: مراقبت ویژه، حتما استراحت کنید.\"\n",
    "\n",
    "    - اگر دما بین ۳۷ تا ۳۸ و یکی از دو علامت بود:\n",
    "        \"وضعیت: مشکوک به بیماری، مراقب باشید.\"\n",
    "\n",
    "    - اگر دما زیر ۳۷ و هیچ علامتی نبود:\n",
    "        \"وضعیت: سالم، بهداشت را رعایت کنید.\"\n",
    "\n",
    "    - در غیر این صورت:\n",
    "        \"وضعیت: نیاز به بررسی بیشتر.\"\n",
    "\n",
    "</div>"
   ]
  },
  {
   "cell_type": "code",
   "execution_count": 8,
   "id": "276a6755",
   "metadata": {},
   "outputs": [
    {
     "name": "stdout",
     "output_type": "stream",
     "text": [
      "وضعیت: اورژانسی، سریعاً به پزشک مراجعه کنید.\n"
     ]
    }
   ],
   "source": [
    "# تمرین: تعیین وضعیت سلامت بر اساس علائم\n",
    "\n",
    "# گرفتن ورودی‌ها\n",
    "temp = float(input(\"دمای بدن (مثال: 37.5): \"))\n",
    "cough = input(\"آیا سرفه دارید؟ (yes/no): \").strip()\n",
    "breath = input(\"آیا تنگی نفس دارید؟ (yes/no): \").strip()\n",
    "\n",
    "# تبدیل به بولین برای راحتی\n",
    "has_cough = (cough == \"yes\")\n",
    "has_breath = (breath == \"yes\")\n",
    "\n",
    "# بررسی شرایط\n",
    "if temp > 38 and has_cough and has_breath:\n",
    "    print(\"وضعیت: اورژانسی، سریعاً به پزشک مراجعه کنید.\")\n",
    "elif temp > 38 and (has_cough or has_breath):\n",
    "    print(\"وضعیت: مراقبت ویژه، حتما استراحت کنید.\")\n",
    "elif 37 <= temp <= 38 and (has_cough or has_breath):\n",
    "    print(\"وضعیت: مشکوک به بیماری، مراقب باشید.\")\n",
    "elif temp < 37 and not has_cough and not has_breath:\n",
    "    print(\"وضعیت: سالم، بهداشت را رعایت کنید.\")\n",
    "else:\n",
    "    print(\"وضعیت: نیاز به بررسی بیشتر.\")\n"
   ]
  }
 ],
 "metadata": {
  "kernelspec": {
   "display_name": "env",
   "language": "python",
   "name": "python3"
  },
  "language_info": {
   "codemirror_mode": {
    "name": "ipython",
    "version": 3
   },
   "file_extension": ".py",
   "mimetype": "text/x-python",
   "name": "python",
   "nbconvert_exporter": "python",
   "pygments_lexer": "ipython3",
   "version": "3.12.3"
  }
 },
 "nbformat": 4,
 "nbformat_minor": 5
}

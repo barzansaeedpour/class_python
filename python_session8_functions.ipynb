{
  "cells": [
    {
      "cell_type": "markdown",
      "id": "68522d84",
      "metadata": {},
      "source": [
        "<div dir=\"rtl\">\n",
        "\n",
        "# جلسه ۸ – توابع\n",
        "\n",
        "## چرا باید از توابع استفاده کنیم؟\n",
        "\n",
        "توابع بخش بسیار مهمی از برنامه‌نویسی هستند. مهم‌ترین دلایل استفاده از توابع:\n",
        "\n",
        "- **جلوگیری از تکرار کد**: به جای اینکه یک بخش کد را چند بار بنویسیم، می‌توانیم آن را در قالب یک تابع تعریف کنیم و بارها صدا بزنیم.\n",
        "- **سازماندهی و خوانایی بیشتر**: کد به بخش‌های کوچک‌تر و قابل‌فهم‌تر تقسیم می‌شود.\n",
        "- **قابلیت استفاده مجدد (Reusability)**: یک تابع یک بار نوشته می‌شود ولی در بخش‌های مختلف برنامه استفاده می‌شود.\n",
        "- **تقسیم پروژه بزرگ به بخش‌های کوچک**: هر بخش می‌تواند یک وظیفه خاص انجام دهد.\n",
        "\n",
        "</div>"
      ]
    },
    {
      "cell_type": "markdown",
      "id": "7661d6b8",
      "metadata": {},
      "source": [
        "<div dir=\"rtl\">\n",
        "\n",
        "## تعریف تابع با `def`\n",
        "برای تعریف یک تابع از کلمه کلیدی `def` استفاده می‌کنیم:\n",
        "\n",
        "</div>"
      ]
    },
    {
      "cell_type": "code",
      "execution_count": null,
      "id": "72032b10",
      "metadata": {},
      "outputs": [],
      "source": [
        "def salam():\n",
        "    print(\"سلام! این یک تابع ساده است.\")\n",
        "\n",
        "salam()"
      ]
    },
    {
      "cell_type": "markdown",
      "id": "19baa4c3",
      "metadata": {},
      "source": [
        "<div dir=\"rtl\">\n",
        "\n",
        "## پارامتر و مقدار بازگشتی (`return`)\n",
        "تفاوت مهم بین `print` و `return` این است که:\n",
        "\n",
        "- `print` فقط نتیجه را روی صفحه نمایش می‌دهد.\n",
        "- `return` نتیجه را به برنامه برمی‌گرداند تا بتوانیم دوباره از آن استفاده کنیم.\n",
        "\n",
        "</div>"
      ]
    },
    {
      "cell_type": "code",
      "execution_count": null,
      "id": "a807dde1",
      "metadata": {},
      "outputs": [],
      "source": [
        "def jam(a, b):\n",
        "    return a + b\n",
        "\n",
        "natije = jam(5, 7)\n",
        "print(\"نتیجه:\", natije)\n",
        "print(\"نتیجه × 2:\", natije * 2)"
      ]
    },
    {
      "cell_type": "markdown",
      "id": "32c4b438",
      "metadata": {},
      "source": [
        "<div dir=\"rtl\">\n",
        "\n",
        "## محدوده متغیرها (local و global)\n",
        "- متغیرهای تعریف‌شده داخل تابع **محلی (local)** هستند.\n",
        "- متغیرهای تعریف‌شده بیرون از تابع **سراسری (global)** هستند.\n",
        "\n",
        "</div>"
      ]
    },
    {
      "cell_type": "code",
      "execution_count": null,
      "id": "6b0aab01",
      "metadata": {},
      "outputs": [],
      "source": [
        "x = 10  # متغیر global\n",
        "\n",
        "def test():\n",
        "    y = 5  # متغیر local\n",
        "    print(\"x داخل تابع:\", x)\n",
        "    print(\"y داخل تابع:\", y)\n",
        "\n",
        "test()\n",
        "print(\"x بیرون تابع:\", x)\n",
        "# print(y)  # خطا می‌دهد چون y محلی است"
      ]
    },
    {
      "cell_type": "markdown",
      "id": "64755dd1",
      "metadata": {},
      "source": [
        "<div dir=\"rtl\">\n",
        "\n",
        "## پارامترهای پیش‌فرض\n",
        "اگر مقدار پیش‌فرضی برای پارامتر تعریف کنیم، هنگام صدا زدن تابع می‌توانیم آن پارامتر را وارد نکنیم.\n",
        "\n",
        "</div>"
      ]
    },
    {
      "cell_type": "code",
      "execution_count": null,
      "id": "5d046be1",
      "metadata": {},
      "outputs": [],
      "source": [
        "def pow_with_default(base, exp=2):\n",
        "    return base ** exp\n",
        "\n",
        "print(pow_with_default(5))      # 25\n",
        "print(pow_with_default(2, 3))   # 8"
      ]
    },
    {
      "cell_type": "markdown",
      "id": "30c35670",
      "metadata": {},
      "source": [
        "<div dir=\"rtl\">\n",
        "\n",
        "## تعداد نامحدود آرگومان‌ها (`*args`, `**kwargs`)\n",
        "- `*args`: گرفتن ورودی نامحدود به صورت **لیست**\n",
        "- `**kwargs`: گرفتن ورودی نامحدود به صورت **دیکشنری**\n",
        "\n",
        "</div>"
      ]
    },
    {
      "cell_type": "code",
      "execution_count": null,
      "id": "add5ea5d",
      "metadata": {},
      "outputs": [],
      "source": [
        "def jam_var_args(*args):\n",
        "    return sum(args)\n",
        "\n",
        "print(jam_var_args(1, 2, 3, 4, 5))\n",
        "\n",
        "def show_info(**kwargs):\n",
        "    for key, value in kwargs.items():\n",
        "        print(f\"{key}: {value}\")\n",
        "\n",
        "show_info(name=\"Ali\", age=25, city=\"Tehran\")"
      ]
    },
    {
      "cell_type": "markdown",
      "id": "2be24a57",
      "metadata": {},
      "source": [
        "<div dir=\"rtl\">\n",
        "\n",
        "## توابع بازگشتی (Recursive Functions)\n",
        "گاهی یک تابع خودش را صدا می‌زند. این روش برای مسائلی مثل محاسبه فاکتوریل یا دنباله فیبوناچی بسیار مفید است.\n",
        "\n",
        "- نکته مهم: باید همیشه **شرط پایان** داشته باشیم تا بی‌نهایت صدا زدن رخ ندهد.\n",
        "\n",
        "</div>"
      ]
    },
    {
      "cell_type": "code",
      "execution_count": null,
      "id": "367cb41d",
      "metadata": {},
      "outputs": [],
      "source": [
        "def factorial(n):\n",
        "    if n == 0 or n == 1:\n",
        "        return 1\n",
        "    return n * factorial(n-1)\n",
        "\n",
        "print(\"فاکتوریل 5:\", factorial(5))\n",
        "\n",
        "def fibonacci(n):\n",
        "    if n <= 1:\n",
        "        return n\n",
        "    return fibonacci(n-1) + fibonacci(n-2)\n",
        "\n",
        "print(\"فیبوناچی 6:\", fibonacci(6))"
      ]
    },
    {
      "cell_type": "markdown",
      "id": "dcafbb57",
      "metadata": {},
      "source": [
        "<div dir=\"rtl\">\n",
        "\n",
        "## نکات تکمیلی\n",
        "\n",
        "### داک‌استرینگ (Docstring)\n",
        "برای توضیح عملکرد تابع:\n",
        "\n",
        "</div>"
      ]
    },
    {
      "cell_type": "code",
      "execution_count": null,
      "id": "a4172907",
      "metadata": {},
      "outputs": [],
      "source": [
        "def circle_area(r):\n",
        "    \"\"\"این تابع مساحت دایره با شعاع r را برمی‌گرداند\"\"\"\n",
        "    import math\n",
        "    return math.pi * r * r\n",
        "\n",
        "print(circle_area.__doc__)\n",
        "print(circle_area(3))"
      ]
    },
    {
      "cell_type": "markdown",
      "id": "dcc8e766",
      "metadata": {},
      "source": [
        "<div dir=\"rtl\">\n",
        "\n",
        "### Type Hints\n",
        "برای مشخص کردن نوع ورودی و خروجی توابع:\n",
        "\n",
        "</div>"
      ]
    },
    {
      "cell_type": "code",
      "execution_count": null,
      "id": "3217cd24",
      "metadata": {},
      "outputs": [],
      "source": [
        "def add_numbers(a: int, b: int) -> int:\n",
        "    return a + b\n",
        "\n",
        "print(add_numbers(3, 7))"
      ]
    },
    {
      "cell_type": "markdown",
      "id": "ae9eea26",
      "metadata": {},
      "source": [
        "<div dir=\"rtl\">\n",
        "\n",
        "## تمرین: محاسبه مساحت و محیط اشکال مختلف\n",
        "- دایره\n",
        "- مربع\n",
        "- مستطیل\n",
        "- مثلث\n",
        "\n",
        "</div>"
      ]
    },
    {
      "cell_type": "code",
      "execution_count": null,
      "id": "9b436e73",
      "metadata": {},
      "outputs": [],
      "source": [
        "import math\n",
        "\n",
        "def circle_perimeter(r):\n",
        "    return 2 * math.pi * r\n",
        "\n",
        "def square_area(a):\n",
        "    return a * a\n",
        "\n",
        "def square_perimeter(a):\n",
        "    return 4 * a\n",
        "\n",
        "def rectangle_area(a, b):\n",
        "    return a * b\n",
        "\n",
        "def rectangle_perimeter(a, b):\n",
        "    return 2 * (a + b)\n",
        "\n",
        "def triangle_area(base, height):\n",
        "    return 0.5 * base * height\n",
        "\n",
        "def triangle_perimeter(a, b, c):\n",
        "    return a + b + c\n",
        "\n",
        "print(\"مساحت دایره با شعاع 3:\", circle_area(3))\n",
        "print(\"محیط مربع با ضلع 4:\", square_perimeter(4))"
      ]
    },
    {
      "cell_type": "markdown",
      "id": "3b8e9116",
      "metadata": {},
      "source": [
        "<div dir=\"rtl\">\n",
        "\n",
        "## تمرین‌های اضافه\n",
        "\n",
        "1. تابعی بنویسید که لیستی از اعداد بگیرد و میانگین آن‌ها را برگرداند.\n",
        "2. تابعی بنویسید که یک رشته بگیرد و تعداد حروف صدادار (ا، e, i, o, u) آن را حساب کند.\n",
        "3. تابعی بازگشتی بنویسید که عدد ورودی را به توان دیگری برساند.\n",
        "4. تابعی بنویسید که بررسی کند عدد ورودی اول است یا نه.\n",
        "5. تابعی بنویسید که بزرگ‌ترین عدد در یک لیست را پیدا کند.\n",
        "6. تابعی بنویسید که ورودی را به صورت نامحدود (`*args`) بگیرد و کوچک‌ترین مقدار را برگرداند.\n",
        "</div>\n"
      ]
    }
  ],
  "metadata": {
    "kernelspec": {
      "display_name": "Python 3",
      "language": "python",
      "name": "python3"
    },
    "language_info": {
      "name": "python",
      "version": "3.10"
    }
  },
  "nbformat": 4,
  "nbformat_minor": 5
}

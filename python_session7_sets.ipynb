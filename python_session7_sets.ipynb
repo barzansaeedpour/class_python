{
 "cells": [
  {
   "cell_type": "markdown",
   "id": "994071ec",
   "metadata": {},
   "source": [
    "<div dir=\"rtl\">\n",
    "\n",
    "# جلسه ۷ – مجموعه‌ها (Sets) در پایتون\n",
    "\n",
    "</div>"
   ]
  },
  {
   "cell_type": "markdown",
   "id": "09373614",
   "metadata": {},
   "source": [
    "\n",
    "<div dir=\"rtl\">\n",
    "\n",
    "## مقدمه\n",
    "در این جلسه با **مجموعه‌ها (Set)** در پایتون آشنا می‌شویم.  \n",
    "مجموعه یک نوع داده‌ی مهم در پایتون است که برای ذخیره‌سازی چندین مقدار استفاده می‌شود.  \n",
    "ویژگی‌های اصلی `set`:\n",
    "- عناصر مجموعه **تکراری نیستند**.  \n",
    "- مجموعه‌ها **بدون ترتیب (unordered)** هستند.  \n",
    "- مجموعه‌ها **قابل تغییر (mutable)** هستند، اما عناصر آن باید **immutable** باشند (مثل عدد، رشته یا تاپل).  \n",
    "\n",
    "</div>\n"
   ]
  },
  {
   "cell_type": "markdown",
   "id": "04cdc05c",
   "metadata": {},
   "source": [
    "\n",
    "<div dir=\"rtl\">\n",
    "\n",
    "## ایجاد مجموعه (Set)\n",
    "برای ایجاد یک مجموعه می‌توانیم از آکولاد `{}` یا تابع `set()` استفاده کنیم.\n",
    "\n",
    "</div>\n"
   ]
  },
  {
   "cell_type": "code",
   "execution_count": null,
   "id": "da4d3264",
   "metadata": {},
   "outputs": [],
   "source": [
    "\n",
    "# ایجاد مجموعه با {}\n",
    "numbers = {1, 2, 3, 4, 5}\n",
    "print(numbers)\n",
    "\n",
    "# ایجاد مجموعه با تابع set()\n",
    "letters = set(['a', 'b', 'c', 'a'])  # تکراری حذف می‌شود\n",
    "print(letters)\n"
   ]
  },
  {
   "cell_type": "markdown",
   "id": "06644c9a",
   "metadata": {},
   "source": [
    "\n",
    "<div dir=\"rtl\">\n",
    "\n",
    "## ویژگی‌های مجموعه‌ها\n",
    "- مجموعه ترتیب خاصی ندارد.\n",
    "- عناصر تکراری در مجموعه ذخیره نمی‌شوند.\n",
    "- مجموعه می‌تواند شامل انواع داده‌های مختلف باشد (عدد، رشته، تاپل و ...).\n",
    "\n",
    "</div>\n"
   ]
  },
  {
   "cell_type": "code",
   "execution_count": null,
   "id": "a60ff19d",
   "metadata": {},
   "outputs": [],
   "source": [
    "\n",
    "mixed_set = {1, \"hello\", (2,3)}\n",
    "print(mixed_set)\n"
   ]
  },
  {
   "cell_type": "markdown",
   "id": "4b2dfd4b",
   "metadata": {},
   "source": [
    "\n",
    "<div dir=\"rtl\">\n",
    "\n",
    "## عملیات مجموعه‌ای\n",
    "مجموعه‌ها امکان انجام عملیات ریاضی روی داده‌ها را فراهم می‌کنند.\n",
    "\n",
    "- **اجتماع (Union)**: `A | B` یا `A.union(B)`  \n",
    "- **اشتراک (Intersection)**: `A & B` یا `A.intersection(B)`  \n",
    "- **تفاضل (Difference)**: `A - B` یا `A.difference(B)`  \n",
    "- **تفاضل متقارن (Symmetric Difference)**: `A ^ B` یا `A.symmetric_difference(B)`  \n",
    "\n",
    "</div>\n"
   ]
  },
  {
   "cell_type": "code",
   "execution_count": null,
   "id": "04b3fcbe",
   "metadata": {},
   "outputs": [],
   "source": [
    "\n",
    "A = {1, 2, 3, 4}\n",
    "B = {3, 4, 5, 6}\n",
    "\n",
    "print(\"اجتماع:\", A | B)\n",
    "print(\"اشتراک:\", A & B)\n",
    "print(\"تفاضل A-B:\", A - B)\n",
    "print(\"تفاضل متقارن:\", A ^ B)\n"
   ]
  },
  {
   "cell_type": "markdown",
   "id": "c80cf9b0",
   "metadata": {},
   "source": [
    "\n",
    "<div dir=\"rtl\">\n",
    "\n",
    "## متدهای مهم مجموعه‌ها\n",
    "\n",
    "- `add(x)` : اضافه کردن یک عنصر  \n",
    "- `remove(x)` : حذف یک عنصر (خطا می‌دهد اگر وجود نداشته باشد)  \n",
    "- `discard(x)` : حذف یک عنصر (بدون خطا)  \n",
    "- `pop()` : حذف یک عنصر تصادفی  \n",
    "- `clear()` : پاک کردن کل مجموعه  \n",
    "- `copy()` : کپی مجموعه  \n",
    "\n",
    "</div>\n"
   ]
  },
  {
   "cell_type": "code",
   "execution_count": null,
   "id": "5ea8aff4",
   "metadata": {},
   "outputs": [],
   "source": [
    "\n",
    "s = {1, 2, 3}\n",
    "s.add(4)\n",
    "print(\"بعد از add:\", s)\n",
    "\n",
    "s.remove(2)\n",
    "print(\"بعد از remove:\", s)\n",
    "\n",
    "s.discard(10)  # خطا نمی‌دهد\n",
    "print(\"بعد از discard:\", s)\n",
    "\n",
    "print(\"pop:\", s.pop())\n",
    "print(\"copy:\", s.copy())\n",
    "\n",
    "s.clear()\n",
    "print(\"بعد از clear:\", s)\n"
   ]
  },
  {
   "cell_type": "markdown",
   "id": "805b3005",
   "metadata": {},
   "source": [
    "\n",
    "<div dir=\"rtl\">\n",
    "\n",
    "## مقایسه مجموعه‌ها\n",
    "\n",
    "- `issubset()` : بررسی زیرمجموعه بودن  \n",
    "- `issuperset()` : بررسی ابرمجموعه بودن  \n",
    "- `isdisjoint()` : بررسی اشتراک نداشتن  \n",
    "\n",
    "</div>\n"
   ]
  },
  {
   "cell_type": "code",
   "execution_count": null,
   "id": "1d11ec19",
   "metadata": {},
   "outputs": [],
   "source": [
    "\n",
    "A = {1, 2}\n",
    "B = {1, 2, 3, 4}\n",
    "C = {5, 6}\n",
    "\n",
    "print(\"A زیرمجموعه B است:\", A.issubset(B))\n",
    "print(\"B ابرمجموعه A است:\", B.issuperset(A))\n",
    "print(\"A و C اشتراک ندارند:\", A.isdisjoint(C))\n"
   ]
  },
  {
   "cell_type": "markdown",
   "id": "bc690e5a",
   "metadata": {},
   "source": [
    "\n",
    "<div dir=\"rtl\">\n",
    "\n",
    "## مجموعه‌های غیرقابل تغییر (Frozen Set)\n",
    "گاهی نیاز داریم مجموعه‌ای بسازیم که دیگر تغییر نکند.  \n",
    "برای این کار از `frozenset` استفاده می‌کنیم.\n",
    "\n",
    "</div>\n"
   ]
  },
  {
   "cell_type": "code",
   "execution_count": null,
   "id": "a7eef954",
   "metadata": {},
   "outputs": [],
   "source": [
    "\n",
    "fs = frozenset([1, 2, 3, 4])\n",
    "print(fs)\n",
    "# fs.add(5)  # خطا می‌دهد چون frozenset قابل تغییر نیست\n"
   ]
  },
  {
   "cell_type": "markdown",
   "id": "e9a193b7",
   "metadata": {},
   "source": [
    "<div dir=\"rtl\">\n",
    "\n",
    "### تمرین: حذف کلمات تکراری از متن ورودی کاربر\n",
    "\n",
    "یک متن وارد کنید که شامل کلمات تکراری باشد و با استفاده از set کلمات تکراری را از آن حذف کنید\n",
    "</div>"
   ]
  },
  {
   "cell_type": "code",
   "execution_count": null,
   "id": "97ae237b",
   "metadata": {},
   "outputs": [],
   "source": [
    "text = input(\"یک متن وارد کنید: \")\n",
    "words = text.split()\n",
    "unique_words = set(words)\n",
    "print(\"کلمات بدون تکرار:\", unique_words)"
   ]
  },
  {
   "cell_type": "markdown",
   "id": "343dfd93",
   "metadata": {},
   "source": [
    "\n",
    "<div dir=\"rtl\">\n",
    "\n",
    "## تمرین‌ها\n",
    "\n",
    "۱. برنامه‌ای بنویسید که مجموعه‌ای از اعداد را گرفته و تمام مقادیر تکراری را حذف کند.  \n",
    "۲. دو مجموعه تعریف کنید و اجتماع، اشتراک، تفاضل و تفاضل متقارن آنها را نمایش دهید.  \n",
    "۳. بررسی کنید که آیا یک مجموعه زیرمجموعه مجموعه دیگر است یا خیر.  \n",
    "۴. یک مجموعه از رشته‌ها تعریف کنید و همه‌ی آن‌ها را به حروف بزرگ تبدیل کنید.  \n",
    "۵. برنامه‌ای بنویسید که یک متن از کاربر گرفته و تمام کلمات یکتا (بدون تکرار) آن را نمایش دهد.  \n",
    "۶. یک برنامه بنویسید که بررسی کند آیا دو رشته شامل حروف مشترک هستند یا خیر (با استفاده از مجموعه‌ها).  \n",
    "\n",
    "</div>\n"
   ]
  }
 ],
 "metadata": {
  "language_info": {
   "name": "python"
  }
 },
 "nbformat": 4,
 "nbformat_minor": 5
}

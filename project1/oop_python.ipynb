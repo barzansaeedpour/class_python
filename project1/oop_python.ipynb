{
  "cells": [
    {
      "cell_type": "markdown",
      "metadata": {},
      "source": [
        "<div dir=\"rtl\">\n",
        "\n",
        "# شی‌گرایی در پایتون (OOP)\n",
        "در این نوت‌بوک با مفاهیم اصلی شی‌گرایی در پایتون و کاربرد آن‌ها در مثال‌های واقعی آشنا می‌شویم.\n",
        "</div>"
      ]
    },
    {
      "cell_type": "markdown",
      "metadata": {},
      "source": [
        "<div dir=\"rtl\">\n",
        "\n",
        "## کاربرد و اهمیت شی‌گرایی در پایتون\n",
        "- مدل‌سازی دنیای واقعی\n",
        "- سازمان‌دهی بهتر کد\n",
        "- استفاده‌ی مجدد (Reusability)\n",
        "- قابلیت توسعه (Scalability)\n",
        "- انعطاف‌پذیری (Polymorphism)\n",
        "- امنیت و کنترل داده‌ها (Encapsulation)\n",
        "\n",
        "### مثال واقعی: مدیریت کتابخانه\n",
        "فرض کنید می‌خواهیم یک سیستم برای مدیریت کتابخانه طراحی کنیم. با شی‌گرایی می‌توانیم برای کتاب، کاربر و کتابخانه کلاس تعریف کنیم.\n",
        "</div>"
      ]
    },
    {
      "cell_type": "code",
      "metadata": {},
      "source": [
        "class Book:\n",
        "    def __init__(self, title, author):\n",
        "        self.title = title\n",
        "        self.author = author\n",
        "        self.is_available = True\n",
        "\n",
        "class Library:\n",
        "    def __init__(self):\n",
        "        self.books = []\n",
        "    \n",
        "    def add_book(self, book):\n",
        "        self.books.append(book)\n",
        "    \n",
        "    def borrow_book(self, title):\n",
        "        for book in self.books:\n",
        "            if book.title == title and book.is_available:\n",
        "                book.is_available = False\n",
        "                return f\"کتاب {title} امانت داده شد.\"\n",
        "        return \"کتاب موجود نیست.\"\n",
        "\n",
        "lib = Library()\n",
        "b1 = Book(\"پایتون مقدماتی\", \"علی احمدی\")\n",
        "lib.add_book(b1)\n",
        "print(lib.borrow_book(\"پایتون مقدماتی\"))"
      ]
    },
    {
      "cell_type": "markdown",
      "metadata": {},
      "source": [
        "<div dir=\"rtl\">\n",
        "\n",
        "## کلاس و شیء\n",
        "کلاس یک قالب است و شیء نمونه‌ای از آن. مثال: تعریف کلاس `Person` برای نمایش اطلاعات افراد.\n",
        "</div>"
      ]
    },
    {
      "cell_type": "code",
      "metadata": {},
      "source": [
        "class Person:\n",
        "    def __init__(self, name, age):\n",
        "        self.name = name\n",
        "        self.age = age\n",
        "\n",
        "    def introduce(self):\n",
        "        print(f\"سلام! من {self.name} هستم و {self.age} سالمه.\")\n",
        "\n",
        "p1 = Person(\"مریم\", 30)\n",
        "p1.introduce()"
      ]
    },
    {
      "cell_type": "markdown",
      "metadata": {},
      "source": [
        "<div dir=\"rtl\">\n",
        "\n",
        "## وراثت (Inheritance)\n",
        "با وراثت می‌توان ویژگی‌ها و متدهای یک کلاس را در کلاس دیگر استفاده کرد.\n",
        "\n",
        "### مثال واقعی: سیستم حمل‌ونقل\n",
        "می‌توانیم یک کلاس پایه `Vehicle` داشته باشیم و کلاس‌های `Car` و `Bus` از آن ارث ببرند.\n",
        "</div>"
      ]
    },
    {
      "cell_type": "code",
      "metadata": {},
      "source": [
        "class Vehicle:\n",
        "    def __init__(self, brand):\n",
        "        self.brand = brand\n",
        "    \n",
        "    def move(self):\n",
        "        print(\"وسیله نقلیه در حال حرکت است.\")\n",
        "\n",
        "class Car(Vehicle):\n",
        "    def move(self):\n",
        "        print(f\"ماشین {self.brand} در حال حرکت است.\")\n",
        "\n",
        "class Bus(Vehicle):\n",
        "    def move(self):\n",
        "        print(f\"اتوبوس {self.brand} مسافران را حمل می‌کند.\")\n",
        "\n",
        "c = Car(\"BMW\")\n",
        "b = Bus(\"Volvo\")\n",
        "c.move()\n",
        "b.move()"
      ]
    },
    {
      "cell_type": "markdown",
      "metadata": {},
      "source": [
        "<div dir=\"rtl\">\n",
        "\n",
        "## چندریختی (Polymorphism)\n",
        "متدهایی با نام یکسان می‌توانند در کلاس‌های مختلف رفتار متفاوت داشته باشند.\n",
        "\n",
        "### مثال واقعی: حیوانات\n",
        "</div>"
      ]
    },
    {
      "cell_type": "code",
      "metadata": {},
      "source": [
        "class Dog:\n",
        "    def speak(self):\n",
        "        print(\"واق واق!\")\n",
        "\n",
        "class Cat:\n",
        "    def speak(self):\n",
        "        print(\"میو میو!\")\n",
        "\n",
        "animals = [Dog(), Cat()]\n",
        "for a in animals:\n",
        "    a.speak()"
      ]
    },
    {
      "cell_type": "markdown",
      "metadata": {},
      "source": [
        "<div dir=\"rtl\">\n",
        "\n",
        "## کپسوله‌سازی (Encapsulation)\n",
        "با کپسوله‌سازی می‌توانیم داده‌ها را خصوصی کنیم و دسترسی مستقیم را محدود کنیم.\n",
        "\n",
        "### مثال واقعی: حساب بانکی\n",
        "</div>"
      ]
    },
    {
      "cell_type": "code",
      "metadata": {},
      "source": [
        "class BankAccount:\n",
        "    def __init__(self, owner, balance):\n",
        "        self.owner = owner\n",
        "        self.__balance = balance\n",
        "\n",
        "    def deposit(self, amount):\n",
        "        self.__balance += amount\n",
        "    \n",
        "    def withdraw(self, amount):\n",
        "        if amount <= self.__balance:\n",
        "            self.__balance -= amount\n",
        "            return f\"{amount} برداشت شد.\"\n",
        "        else:\n",
        "            return \"موجودی کافی نیست.\"\n",
        "    \n",
        "    def get_balance(self):\n",
        "        return self.__balance\n",
        "\n",
        "acc = BankAccount(\"علی\", 1000)\n",
        "print(acc.deposit(500))\n",
        "print(acc.withdraw(200))\n",
        "print(\"موجودی:\", acc.get_balance())"
      ]
    }
  ],
  "metadata": {
    "kernelspec": {
      "display_name": "Python 3",
      "language": "python",
      "name": "python3"
    },
    "language_info": {
      "name": "python",
      "version": "3.9"
    }
  },
  "nbformat": 4,
  "nbformat_minor": 5
}
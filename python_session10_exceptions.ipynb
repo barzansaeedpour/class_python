{
 "cells": [
  {
   "cell_type": "markdown",
   "id": "9e7b126a",
   "metadata": {},
   "source": [
    "\n",
    "<div dir=\"rtl\">\n",
    "\n",
    "# جلسه ۱۰ – مدیریت خطاها و استثناها\n",
    "\n",
    "در این جلسه با **مدیریت خطاها و استثناها (Exceptions)** در پایتون آشنا می‌شویم.  \n",
    "مدیریت صحیح خطاها باعث می‌شود برنامه ما در شرایط غیرمنتظره متوقف نشود.\n",
    "\n",
    "</div>\n"
   ]
  },
  {
   "cell_type": "markdown",
   "id": "24525ba3",
   "metadata": {},
   "source": [
    "\n",
    "<div dir=\"rtl\">\n",
    "\n",
    "## مفهوم Exception\n",
    "\n",
    "در پایتون، وقتی خطایی رخ می‌دهد (مانند تقسیم بر صفر یا دسترسی به اندیسی که وجود ندارد)،  \n",
    "یک **Exception** ایجاد می‌شود. اگر این استثنا مدیریت نشود، اجرای برنامه متوقف خواهد شد.\n",
    "\n",
    "</div>\n"
   ]
  },
  {
   "cell_type": "code",
   "execution_count": null,
   "id": "a331f813",
   "metadata": {},
   "outputs": [],
   "source": [
    "\n",
    "# نمونه خطا\n",
    "x = 10\n",
    "y = 0\n",
    "print(x / y)  # ZeroDivisionError ایجاد می‌شود\n"
   ]
  },
  {
   "cell_type": "markdown",
   "id": "f2754a7d",
   "metadata": {},
   "source": [
    "\n",
    "<div dir=\"rtl\">\n",
    "\n",
    "## استفاده از `try`, `except`, `finally`\n",
    "\n",
    "برای جلوگیری از توقف برنامه می‌توانیم از بلوک‌های `try`, `except` و در صورت نیاز `finally` استفاده کنیم.\n",
    "\n",
    "</div>\n"
   ]
  },
  {
   "cell_type": "code",
   "execution_count": null,
   "id": "49f3f11e",
   "metadata": {},
   "outputs": [],
   "source": [
    "\n",
    "try:\n",
    "    x = 10\n",
    "    y = 0\n",
    "    result = x / y\n",
    "except ZeroDivisionError:\n",
    "    print(\"خطا: تقسیم بر صفر مجاز نیست.\")\n",
    "finally:\n",
    "    print(\"این بخش همیشه اجرا می‌شود.\")\n"
   ]
  },
  {
   "cell_type": "markdown",
   "id": "1e9fa257",
   "metadata": {},
   "source": [
    "\n",
    "<div dir=\"rtl\">\n",
    "\n",
    "## ایجاد خطای سفارشی با `raise`\n",
    "\n",
    "می‌توانیم در شرایط خاص، خطاهای سفارشی ایجاد کنیم.\n",
    "\n",
    "</div>\n"
   ]
  },
  {
   "cell_type": "code",
   "execution_count": null,
   "id": "1db4e6c6",
   "metadata": {},
   "outputs": [],
   "source": [
    "\n",
    "def check_age(age):\n",
    "    if age < 0:\n",
    "        raise ValueError(\"سن نمی‌تواند منفی باشد.\")\n",
    "    return f\"سن شما {age} سال است.\"\n",
    "\n",
    "print(check_age(25))\n",
    "print(check_age(-5))  # ایجاد خطای سفارشی\n"
   ]
  },
  {
   "cell_type": "markdown",
   "id": "13a312c3",
   "metadata": {},
   "source": [
    "\n",
    "<div dir=\"rtl\">\n",
    "\n",
    "## تمرین: ماشین حساب مقاوم در برابر ورودی اشتباه\n",
    "\n",
    "برنامه‌ای بنویسید که دو عدد و یک عملگر ( `+`, `-`, `*`, `/` ) از کاربر بگیرد  \n",
    "و نتیجه را نمایش دهد. برنامه باید در برابر ورودی‌های اشتباه (مانند متن به جای عدد، تقسیم بر صفر یا عملگر نامعتبر) مقاوم باشد.\n",
    "\n",
    "</div>\n"
   ]
  },
  {
   "cell_type": "code",
   "execution_count": null,
   "id": "b1de83c2",
   "metadata": {},
   "outputs": [],
   "source": [
    "\n",
    "def safe_calculator():\n",
    "    try:\n",
    "        a = float(input(\"عدد اول را وارد کنید: \"))\n",
    "        b = float(input(\"عدد دوم را وارد کنید: \"))\n",
    "        op = input(\"عملگر را وارد کنید (+, -, *, /): \")\n",
    "        \n",
    "        if op == \"+\":\n",
    "            result = a + b\n",
    "        elif op == \"-\":\n",
    "            result = a - b\n",
    "        elif op == \"*\":\n",
    "            result = a * b\n",
    "        elif op == \"/\":\n",
    "            if b == 0:\n",
    "                raise ZeroDivisionError(\"تقسیم بر صفر مجاز نیست.\")\n",
    "            result = a / b\n",
    "        else:\n",
    "            raise ValueError(\"عملگر نامعتبر است.\")\n",
    "        \n",
    "        print(\"نتیجه:\", result)\n",
    "    \n",
    "    except ValueError as ve:\n",
    "        print(\"خطای ورودی:\", ve)\n",
    "    except ZeroDivisionError as zde:\n",
    "        print(\"خطا:\", zde)\n",
    "    except Exception as e:\n",
    "        print(\"یک خطای ناشناخته رخ داد:\", e)\n",
    "    finally:\n",
    "        print(\"پایان اجرای ماشین حساب.\")\n",
    "\n",
    "# اجرای ماشین حساب\n",
    "# safe_calculator()\n"
   ]
  }
 ],
 "metadata": {},
 "nbformat": 4,
 "nbformat_minor": 5
}